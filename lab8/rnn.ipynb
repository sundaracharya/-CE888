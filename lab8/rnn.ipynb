{
  "cells": [
    {
      "cell_type": "markdown",
      "metadata": {
        "id": "view-in-github",
        "colab_type": "text"
      },
      "source": [
        "<a href=\"https://colab.research.google.com/github/sundaracharya/CE888/blob/main/lab8/rnn.ipynb\" target=\"_parent\"><img src=\"https://colab.research.google.com/assets/colab-badge.svg\" alt=\"Open In Colab\"/></a>"
      ]
    },
    {
      "cell_type": "markdown",
      "source": [
        "# Learning from Sequences: Timeseries and Text\n",
        "\n",
        "Created by Dr Ana Matran-Fernandez (amatra@essex.ac.uk) for CE888 (Data Science and Decision Making)\n",
        "\n",
        "This notebook accompanies lecture 8 and illustrates recurrent neural networks on an example of a timeseries (predicting tomorrow's temperature) and a classification problem on the IMDB text dataset."
      ],
      "metadata": {
        "id": "gS1IIAS-bcb-"
      }
    },
    {
      "cell_type": "markdown",
      "source": [
        "# Imports"
      ],
      "metadata": {
        "id": "0myiQp20cxRK"
      }
    },
    {
      "cell_type": "code",
      "execution_count": 8,
      "metadata": {
        "id": "1J0bYBQ7_a0L"
      },
      "outputs": [],
      "source": [
        "# imports\n",
        "import numpy as np\n",
        "import matplotlib.pyplot as plt\n",
        "import os\n",
        "import pandas as pd\n",
        "from sklearn.model_selection import train_test_split"
      ]
    },
    {
      "cell_type": "code",
      "execution_count": 9,
      "metadata": {
        "id": "U0NPDv7X_a0M"
      },
      "outputs": [],
      "source": [
        "# tensorflow imports\n",
        "from tensorflow import keras\n",
        "from keras import layers, models\n",
        "from keras.callbacks import EarlyStopping, ModelCheckpoint"
      ]
    },
    {
      "cell_type": "markdown",
      "source": [
        "# Timeseries"
      ],
      "metadata": {
        "id": "xaiw_VZjbtSH"
      }
    },
    {
      "cell_type": "code",
      "execution_count": 10,
      "metadata": {
        "colab": {
          "base_uri": "https://localhost:8080/",
          "height": 424
        },
        "id": "iA_R1Q-K_a0N",
        "outputId": "1b338220-9858-498c-a62c-dab46cc32c0f"
      },
      "outputs": [
        {
          "output_type": "execute_result",
          "data": {
            "text/plain": [
              "                  date  radiation_avg  precip  wind_avg  wind_max  temp_avg  \\\n",
              "0     14/05/2014 00:00            159     0.0       1.4       3.3     14.27   \n",
              "1     15/05/2014 00:00            280     0.0       0.6       2.3     13.51   \n",
              "2     16/05/2014 00:00            186     3.4       0.8       2.7     15.65   \n",
              "3     17/05/2014 00:00            221     0.0       1.0       3.3     17.46   \n",
              "4     18/05/2014 00:00            255     0.0       2.1       5.5     16.85   \n",
              "...                ...            ...     ...       ...       ...       ...   \n",
              "2551  17/05/2021 00:00            196     1.4       2.2       5.5     10.51   \n",
              "2552  17/05/2021 00:00            173     2.8       1.8       5.5     10.80   \n",
              "2553  18/05/2021 00:00            311     0.0       1.4       5.0     10.29   \n",
              "2554  19/05/2021 00:00            232     6.6       1.8       5.5     11.39   \n",
              "2555  20/05/2021 00:00             44     0.0       0.5       2.7      6.35   \n",
              "\n",
              "      humidity_avg  \n",
              "0            64.95  \n",
              "1            72.91  \n",
              "2            74.69  \n",
              "3            71.42  \n",
              "4            74.45  \n",
              "...            ...  \n",
              "2551         99.86  \n",
              "2552         99.86  \n",
              "2553         92.94  \n",
              "2554         90.32  \n",
              "2555         99.86  \n",
              "\n",
              "[2556 rows x 7 columns]"
            ],
            "text/html": [
              "\n",
              "  <div id=\"df-6b1ab391-b683-40dd-8c1a-de84a377e501\">\n",
              "    <div class=\"colab-df-container\">\n",
              "      <div>\n",
              "<style scoped>\n",
              "    .dataframe tbody tr th:only-of-type {\n",
              "        vertical-align: middle;\n",
              "    }\n",
              "\n",
              "    .dataframe tbody tr th {\n",
              "        vertical-align: top;\n",
              "    }\n",
              "\n",
              "    .dataframe thead th {\n",
              "        text-align: right;\n",
              "    }\n",
              "</style>\n",
              "<table border=\"1\" class=\"dataframe\">\n",
              "  <thead>\n",
              "    <tr style=\"text-align: right;\">\n",
              "      <th></th>\n",
              "      <th>date</th>\n",
              "      <th>radiation_avg</th>\n",
              "      <th>precip</th>\n",
              "      <th>wind_avg</th>\n",
              "      <th>wind_max</th>\n",
              "      <th>temp_avg</th>\n",
              "      <th>humidity_avg</th>\n",
              "    </tr>\n",
              "  </thead>\n",
              "  <tbody>\n",
              "    <tr>\n",
              "      <th>0</th>\n",
              "      <td>14/05/2014 00:00</td>\n",
              "      <td>159</td>\n",
              "      <td>0.0</td>\n",
              "      <td>1.4</td>\n",
              "      <td>3.3</td>\n",
              "      <td>14.27</td>\n",
              "      <td>64.95</td>\n",
              "    </tr>\n",
              "    <tr>\n",
              "      <th>1</th>\n",
              "      <td>15/05/2014 00:00</td>\n",
              "      <td>280</td>\n",
              "      <td>0.0</td>\n",
              "      <td>0.6</td>\n",
              "      <td>2.3</td>\n",
              "      <td>13.51</td>\n",
              "      <td>72.91</td>\n",
              "    </tr>\n",
              "    <tr>\n",
              "      <th>2</th>\n",
              "      <td>16/05/2014 00:00</td>\n",
              "      <td>186</td>\n",
              "      <td>3.4</td>\n",
              "      <td>0.8</td>\n",
              "      <td>2.7</td>\n",
              "      <td>15.65</td>\n",
              "      <td>74.69</td>\n",
              "    </tr>\n",
              "    <tr>\n",
              "      <th>3</th>\n",
              "      <td>17/05/2014 00:00</td>\n",
              "      <td>221</td>\n",
              "      <td>0.0</td>\n",
              "      <td>1.0</td>\n",
              "      <td>3.3</td>\n",
              "      <td>17.46</td>\n",
              "      <td>71.42</td>\n",
              "    </tr>\n",
              "    <tr>\n",
              "      <th>4</th>\n",
              "      <td>18/05/2014 00:00</td>\n",
              "      <td>255</td>\n",
              "      <td>0.0</td>\n",
              "      <td>2.1</td>\n",
              "      <td>5.5</td>\n",
              "      <td>16.85</td>\n",
              "      <td>74.45</td>\n",
              "    </tr>\n",
              "    <tr>\n",
              "      <th>...</th>\n",
              "      <td>...</td>\n",
              "      <td>...</td>\n",
              "      <td>...</td>\n",
              "      <td>...</td>\n",
              "      <td>...</td>\n",
              "      <td>...</td>\n",
              "      <td>...</td>\n",
              "    </tr>\n",
              "    <tr>\n",
              "      <th>2551</th>\n",
              "      <td>17/05/2021 00:00</td>\n",
              "      <td>196</td>\n",
              "      <td>1.4</td>\n",
              "      <td>2.2</td>\n",
              "      <td>5.5</td>\n",
              "      <td>10.51</td>\n",
              "      <td>99.86</td>\n",
              "    </tr>\n",
              "    <tr>\n",
              "      <th>2552</th>\n",
              "      <td>17/05/2021 00:00</td>\n",
              "      <td>173</td>\n",
              "      <td>2.8</td>\n",
              "      <td>1.8</td>\n",
              "      <td>5.5</td>\n",
              "      <td>10.80</td>\n",
              "      <td>99.86</td>\n",
              "    </tr>\n",
              "    <tr>\n",
              "      <th>2553</th>\n",
              "      <td>18/05/2021 00:00</td>\n",
              "      <td>311</td>\n",
              "      <td>0.0</td>\n",
              "      <td>1.4</td>\n",
              "      <td>5.0</td>\n",
              "      <td>10.29</td>\n",
              "      <td>92.94</td>\n",
              "    </tr>\n",
              "    <tr>\n",
              "      <th>2554</th>\n",
              "      <td>19/05/2021 00:00</td>\n",
              "      <td>232</td>\n",
              "      <td>6.6</td>\n",
              "      <td>1.8</td>\n",
              "      <td>5.5</td>\n",
              "      <td>11.39</td>\n",
              "      <td>90.32</td>\n",
              "    </tr>\n",
              "    <tr>\n",
              "      <th>2555</th>\n",
              "      <td>20/05/2021 00:00</td>\n",
              "      <td>44</td>\n",
              "      <td>0.0</td>\n",
              "      <td>0.5</td>\n",
              "      <td>2.7</td>\n",
              "      <td>6.35</td>\n",
              "      <td>99.86</td>\n",
              "    </tr>\n",
              "  </tbody>\n",
              "</table>\n",
              "<p>2556 rows × 7 columns</p>\n",
              "</div>\n",
              "      <button class=\"colab-df-convert\" onclick=\"convertToInteractive('df-6b1ab391-b683-40dd-8c1a-de84a377e501')\"\n",
              "              title=\"Convert this dataframe to an interactive table.\"\n",
              "              style=\"display:none;\">\n",
              "        \n",
              "  <svg xmlns=\"http://www.w3.org/2000/svg\" height=\"24px\"viewBox=\"0 0 24 24\"\n",
              "       width=\"24px\">\n",
              "    <path d=\"M0 0h24v24H0V0z\" fill=\"none\"/>\n",
              "    <path d=\"M18.56 5.44l.94 2.06.94-2.06 2.06-.94-2.06-.94-.94-2.06-.94 2.06-2.06.94zm-11 1L8.5 8.5l.94-2.06 2.06-.94-2.06-.94L8.5 2.5l-.94 2.06-2.06.94zm10 10l.94 2.06.94-2.06 2.06-.94-2.06-.94-.94-2.06-.94 2.06-2.06.94z\"/><path d=\"M17.41 7.96l-1.37-1.37c-.4-.4-.92-.59-1.43-.59-.52 0-1.04.2-1.43.59L10.3 9.45l-7.72 7.72c-.78.78-.78 2.05 0 2.83L4 21.41c.39.39.9.59 1.41.59.51 0 1.02-.2 1.41-.59l7.78-7.78 2.81-2.81c.8-.78.8-2.07 0-2.86zM5.41 20L4 18.59l7.72-7.72 1.47 1.35L5.41 20z\"/>\n",
              "  </svg>\n",
              "      </button>\n",
              "      \n",
              "  <style>\n",
              "    .colab-df-container {\n",
              "      display:flex;\n",
              "      flex-wrap:wrap;\n",
              "      gap: 12px;\n",
              "    }\n",
              "\n",
              "    .colab-df-convert {\n",
              "      background-color: #E8F0FE;\n",
              "      border: none;\n",
              "      border-radius: 50%;\n",
              "      cursor: pointer;\n",
              "      display: none;\n",
              "      fill: #1967D2;\n",
              "      height: 32px;\n",
              "      padding: 0 0 0 0;\n",
              "      width: 32px;\n",
              "    }\n",
              "\n",
              "    .colab-df-convert:hover {\n",
              "      background-color: #E2EBFA;\n",
              "      box-shadow: 0px 1px 2px rgba(60, 64, 67, 0.3), 0px 1px 3px 1px rgba(60, 64, 67, 0.15);\n",
              "      fill: #174EA6;\n",
              "    }\n",
              "\n",
              "    [theme=dark] .colab-df-convert {\n",
              "      background-color: #3B4455;\n",
              "      fill: #D2E3FC;\n",
              "    }\n",
              "\n",
              "    [theme=dark] .colab-df-convert:hover {\n",
              "      background-color: #434B5C;\n",
              "      box-shadow: 0px 1px 3px 1px rgba(0, 0, 0, 0.15);\n",
              "      filter: drop-shadow(0px 1px 2px rgba(0, 0, 0, 0.3));\n",
              "      fill: #FFFFFF;\n",
              "    }\n",
              "  </style>\n",
              "\n",
              "      <script>\n",
              "        const buttonEl =\n",
              "          document.querySelector('#df-6b1ab391-b683-40dd-8c1a-de84a377e501 button.colab-df-convert');\n",
              "        buttonEl.style.display =\n",
              "          google.colab.kernel.accessAllowed ? 'block' : 'none';\n",
              "\n",
              "        async function convertToInteractive(key) {\n",
              "          const element = document.querySelector('#df-6b1ab391-b683-40dd-8c1a-de84a377e501');\n",
              "          const dataTable =\n",
              "            await google.colab.kernel.invokeFunction('convertToInteractive',\n",
              "                                                     [key], {});\n",
              "          if (!dataTable) return;\n",
              "\n",
              "          const docLinkHtml = 'Like what you see? Visit the ' +\n",
              "            '<a target=\"_blank\" href=https://colab.research.google.com/notebooks/data_table.ipynb>data table notebook</a>'\n",
              "            + ' to learn more about interactive tables.';\n",
              "          element.innerHTML = '';\n",
              "          dataTable['output_type'] = 'display_data';\n",
              "          await google.colab.output.renderOutput(dataTable, element);\n",
              "          const docLink = document.createElement('div');\n",
              "          docLink.innerHTML = docLinkHtml;\n",
              "          element.appendChild(docLink);\n",
              "        }\n",
              "      </script>\n",
              "    </div>\n",
              "  </div>\n",
              "  "
            ]
          },
          "metadata": {},
          "execution_count": 10
        }
      ],
      "source": [
        "df = pd.read_csv('https://raw.githubusercontent.com/albanda/CE888/master/lab8/weather.csv')\n",
        "df.drop(['temp_max', 'temp_min'], axis=1, inplace=True)\n",
        "df"
      ]
    },
    {
      "cell_type": "code",
      "execution_count": 11,
      "metadata": {
        "colab": {
          "base_uri": "https://localhost:8080/",
          "height": 279
        },
        "id": "nzsytNAh_a0N",
        "outputId": "9752069e-b7ef-4458-e98e-8e27511cf55e"
      },
      "outputs": [
        {
          "output_type": "display_data",
          "data": {
            "text/plain": [
              "<Figure size 432x288 with 1 Axes>"
            ],
            "image/png": "[encoded data removed]"
          },
          "metadata": {
            "needs_background": "light"
          }
        }
      ],
      "source": [
        "plt.plot(range(len(df)), df['temp_avg'])\n",
        "plt.xlabel('Temporal range')\n",
        "plt.ylabel('Average temperature (C) (7 years)')\n",
        "plt.savefig('temperature_over_time.pdf', bbox_inches='tight')"
      ]
    },
    {
      "cell_type": "code",
      "execution_count": 12,
      "metadata": {
        "colab": {
          "base_uri": "https://localhost:8080/",
          "height": 279
        },
        "id": "ysbM2n99_a0N",
        "outputId": "1c44bf7d-144d-4de3-c64a-ce1e77ec56b8"
      },
      "outputs": [
        {
          "output_type": "display_data",
          "data": {
            "text/plain": [
              "<Figure size 432x288 with 1 Axes>"
            ],
            "image/png": "[encoded data removed]"
          },
          "metadata": {
            "needs_background": "light"
          }
        }
      ],
      "source": [
        "# Look at the first 2 years\n",
        "length = 2*365\n",
        "plt.plot(range(length), df['temp_avg'][:length])\n",
        "plt.xlabel('Temporal range')\n",
        "plt.ylabel('Average temperature (C) (2 years)')\n",
        "plt.savefig('temperature_over_time_2y.pdf', bbox_inches='tight')"
      ]
    },
    {
      "cell_type": "markdown",
      "metadata": {
        "id": "ikyqi2m7_a0O"
      },
      "source": [
        "We have clear periodicity every year. In the previous plot we saw 7 cycles (7 years). Here we see 2.\n",
        "\n",
        "Always look for periodicity in your timeseries. There will always be daily and yearly cycles. Check these patterns.\n",
        "\n",
        "Another issue with timeseries is dividing the dataset into train/validation/test sets. We definitely cannot shuffle the data, and we need to be very careful with data leakage (using data from the future)."
      ]
    },
    {
      "cell_type": "markdown",
      "metadata": {
        "id": "1fxuW2ne_a0P"
      },
      "source": [
        "## Data prep\n",
        "\n",
        "We'll try to predict the average temperature of tomorrow based on data from the past.\n",
        "\n",
        "To avoid data leakage, we're going to use a simple approach: use the first 50% of data for training, the next 30% for validation, and the final 20% for testing.\n"
      ]
    },
    {
      "cell_type": "code",
      "execution_count": 13,
      "metadata": {
        "colab": {
          "base_uri": "https://localhost:8080/"
        },
        "id": "vofGsYen_a0P",
        "outputId": "863a7fdf-66c0-4eb6-ff67-1d3585489b80"
      },
      "outputs": [
        {
          "output_type": "stream",
          "name": "stdout",
          "text": [
            "Samples for training: 1278; validation: 766; test: 512\n"
          ]
        }
      ],
      "source": [
        "n_tr, n_val = int(0.5*len(df)), int(0.3*len(df))\n",
        "n_te = len(df) - n_tr - n_val\n",
        "print('Samples for training: %d; validation: %d; test: %d' % (n_tr, n_val, n_te))"
      ]
    },
    {
      "cell_type": "code",
      "execution_count": 14,
      "metadata": {
        "colab": {
          "base_uri": "https://localhost:8080/"
        },
        "id": "lsMDT2Jq_a0P",
        "outputId": "f829767b-7d7b-4a78-bd16-9645af09422c"
      },
      "outputs": [
        {
          "output_type": "stream",
          "name": "stdout",
          "text": [
            "(2556, 6)\n"
          ]
        }
      ],
      "source": [
        "# Get the data from the dataframe (dropping date column)\n",
        "data = df.iloc[:, 1:].values\n",
        "print(data.shape)\n",
        "assert data.shape[0] == len(df)\n",
        "assert data.shape[1] == len(df.columns)-1, \"Are you sure you're dropping the date?\"\n",
        "# We need to normalise our time series. Calculate mean and std from TRAINING DATA ONLY. \n",
        "# We'll use it on the validation and test sets.\n",
        "mean_tr = data[:n_tr, :].mean(axis=0)\n",
        "std_tr = data[:n_tr, :].std(axis=0)\n",
        "data = (data - mean_tr) / std_tr\n",
        "\n",
        "\n",
        "y = df['temp_avg'].values.reshape(-1, 1)\n",
        "\n",
        "# index of the column that contains the avg_temp\n",
        "y_idx = 4"
      ]
    },
    {
      "cell_type": "code",
      "source": [
        "data[:20, y_idx] * std_tr[y_idx] + mean_tr[y_idx]"
      ],
      "metadata": {
        "colab": {
          "base_uri": "https://localhost:8080/"
        },
        "id": "1VJAcdfICLi1",
        "outputId": "19999560-ce9e-4e3f-dd2d-3b17d4532670"
      },
      "execution_count": 15,
      "outputs": [
        {
          "output_type": "execute_result",
          "data": {
            "text/plain": [
              "array([14.27, 13.51, 15.65, 17.46, 16.85, 18.26, 17.35, 15.55, 14.52,\n",
              "       13.93, 11.48, 13.63, 12.81, 12.4 , 13.67, 14.15, 13.22, 12.21,\n",
              "       15.53, 14.52])"
            ]
          },
          "metadata": {},
          "execution_count": 15
        }
      ]
    },
    {
      "cell_type": "code",
      "source": [
        "y[5:25]"
      ],
      "metadata": {
        "colab": {
          "base_uri": "https://localhost:8080/"
        },
        "id": "xN-YJyEeCUv9",
        "outputId": "7c6149f6-a8f2-4c22-b35d-84312dd3f87a"
      },
      "execution_count": 16,
      "outputs": [
        {
          "output_type": "execute_result",
          "data": {
            "text/plain": [
              "array([[18.26],\n",
              "       [17.35],\n",
              "       [15.55],\n",
              "       [14.52],\n",
              "       [13.93],\n",
              "       [11.48],\n",
              "       [13.63],\n",
              "       [12.81],\n",
              "       [12.4 ],\n",
              "       [13.67],\n",
              "       [14.15],\n",
              "       [13.22],\n",
              "       [12.21],\n",
              "       [15.53],\n",
              "       [14.52],\n",
              "       [15.35],\n",
              "       [12.29],\n",
              "       [13.88],\n",
              "       [15.13],\n",
              "       [17.29]])"
            ]
          },
          "metadata": {},
          "execution_count": 16
        }
      ]
    },
    {
      "cell_type": "code",
      "execution_count": 17,
      "metadata": {
        "id": "K_JGeiAs_a0Q"
      },
      "outputs": [],
      "source": [
        "# We'll use a Dataset from keras to pass our data\n",
        "sampling_rate = 1  # we keep all data points\n",
        "sequence_length = 14  # 2 weeks to predict tomorrow's temperature\n",
        "delay = sampling_rate * sequence_length  # the target is the day after the end of the sequence\n",
        "batch_size = 16"
      ]
    },
    {
      "cell_type": "code",
      "execution_count": 18,
      "metadata": {
        "colab": {
          "base_uri": "https://localhost:8080/"
        },
        "id": "cRDGWNYl_a0Q",
        "outputId": "7ffcb531-f3f1-47c1-f8f4-90210f321034"
      },
      "outputs": [
        {
          "output_type": "stream",
          "name": "stdout",
          "text": [
            "X shape: (16, 14, 6)\n",
            "target shape: (16, 1)\n"
          ]
        }
      ],
      "source": [
        "train_dataset = keras.utils.timeseries_dataset_from_array(\n",
        "    data[:-delay],\n",
        "    targets=y[delay:],\n",
        "    sampling_rate=sampling_rate, sequence_length=sequence_length,\n",
        "    batch_size=batch_size,\n",
        "    start_index=0, end_index=n_tr  # first 50% for training\n",
        "    )\n",
        "\n",
        "val_dataset = keras.utils.timeseries_dataset_from_array(\n",
        "    data[:-delay],\n",
        "    targets=y[delay:],\n",
        "    sampling_rate=sampling_rate, sequence_length=sequence_length,\n",
        "    batch_size=batch_size,\n",
        "    start_index=n_tr, end_index=n_tr+n_val  # 50%-80% for validation\n",
        "    )\n",
        "\n",
        "test_dataset = keras.utils.timeseries_dataset_from_array(\n",
        "    data[:-delay],\n",
        "    targets=y[delay:],\n",
        "    sampling_rate=sampling_rate, sequence_length=sequence_length,\n",
        "    batch_size=batch_size,\n",
        "    start_index=n_tr+n_val  # last 20% for test\n",
        "    )\n",
        "\n",
        "for X, target in train_dataset:\n",
        "    print(\"X shape:\", X.shape)\n",
        "    print(\"target shape:\", target.shape)\n",
        "    #print(X[:, :, y_idx] * std_tr[y_idx] + mean_tr[y_idx])\n",
        "    #print(target)\n",
        "    break  # so we only print once"
      ]
    },
    {
      "cell_type": "code",
      "source": [
        "# Function to plot history with neural networks\n",
        "def plot_hist_regression(hist, y):\n",
        "  n_ = len(hist.history['mae'])\n",
        "  plt.plot(range(1, n_+1), np.asarray(hist.history['mae']), 'bo', label='MAE on training set')\n",
        "  plt.plot(range(1, n_+1), np.asarray(hist.history['val_mae']), 'b', label='MAE on validation set')\n",
        "  plt.legend()\n",
        "  plt.xlabel(\"Epoch\") \n",
        "  plt.ylabel(\"MAE (degrees)\")\n",
        "  plt.axhline(y=y)\n",
        "  plt.show()\n"
      ],
      "metadata": {
        "id": "u_v2rAW_W4kQ"
      },
      "execution_count": 19,
      "outputs": []
    },
    {
      "cell_type": "markdown",
      "metadata": {
        "id": "WlhjIvZR_a0Q"
      },
      "source": [
        "## Establishing a baseline\n"
      ]
    },
    {
      "cell_type": "markdown",
      "source": [
        "### Common sense, no ML baseline\n",
        "\n",
        "- Sanity check\n",
        "- To establish whether ML methods are actually any good\n",
        "\n",
        "Tomorrow's temperature is likely to be close to today's: let's predict that the temperature 24 hours from now will be equal to the temperature right now.\n",
        "\n",
        "We'll use the MAE as metric"
      ],
      "metadata": {
        "id": "rloJamyvWPWj"
      }
    },
    {
      "cell_type": "code",
      "execution_count": 20,
      "metadata": {
        "colab": {
          "base_uri": "https://localhost:8080/"
        },
        "id": "MUY5acIf_a0Q",
        "outputId": "39a47cf0-562b-490d-c8a7-8b75cce5a459"
      },
      "outputs": [
        {
          "output_type": "stream",
          "name": "stdout",
          "text": [
            "MAE on train set = 2.56 (degrees Celsius)\n",
            "MAE on validation set = 2.69 (degrees Celsius)\n",
            "MAE on test set = 2.85 (degrees Celsius)\n"
          ]
        }
      ],
      "source": [
        "def naive_method(dataset, mean, std):\n",
        "    error = 0\n",
        "    samples = 0\n",
        "    count = 0\n",
        "    for X, target in dataset:\n",
        "        pred = X[:, -1, y_idx] * std + mean  # predict last available temperature and un-standardise\n",
        "        #print(X.shape, target.shape, pred.shape)  # [batch_size, sequence_length, n_feats]\n",
        "        #print(X[:, -1, y_idx] * std + mean, target)\n",
        "        error += np.sum(np.abs(pred - target))\n",
        "        samples += X.shape[0]  # batch_size\n",
        "        count += 1\n",
        "    return error / samples / batch_size # average\n",
        "\n",
        "\n",
        "print('MAE on train set = %.2f (degrees Celsius)' % naive_method(train_dataset, mean_tr[y_idx], std_tr[y_idx]))\n",
        "print('MAE on validation set = %.2f (degrees Celsius)' % naive_method(val_dataset, mean_tr[y_idx], std_tr[y_idx]))\n",
        "print('MAE on test set = %.2f (degrees Celsius)' % naive_method(test_dataset, mean_tr[y_idx], std_tr[y_idx]))\n",
        "# Save MAE on validation for later\n",
        "baseline = naive_method(val_dataset, mean_tr[y_idx], std_tr[y_idx])"
      ]
    },
    {
      "cell_type": "markdown",
      "source": [
        "This baseline achieves a validation MAE of 2.69 degrees and a test MAE of 2.85 degrees. So if we assume that tomorrow's temperature will be the same as today's, we'll be off by less than 3 degrees on average.\n",
        "\n",
        "Not too bad, but surely we can do better!"
      ],
      "metadata": {
        "id": "znycUtxiJmAF"
      }
    },
    {
      "cell_type": "markdown",
      "metadata": {
        "id": "7c-duA1Z_a0R"
      },
      "source": [
        "### Simple ML baseline\n",
        "\n",
        "\n"
      ]
    },
    {
      "cell_type": "code",
      "source": [
        "# To get some practice with neural networks, we'll try a 1-layer NN with nothing fancy.\n",
        "\n",
        "model_dense = models.Sequential()\n",
        "model_dense.add(layers.Flatten(input_shape=(sequence_length, len(df.columns)-1)))  # we need to specify the input shape or we won't be able to see the summary\n",
        "model_dense.add(layers.Dense(10, activation='relu'))\n",
        "model_dense.add(layers.Dense(1))\n",
        "\n",
        "model_dense.summary()"
      ],
      "metadata": {
        "colab": {
          "base_uri": "https://localhost:8080/"
        },
        "id": "fWGqpICHJlRe",
        "outputId": "aa1c7c4c-238a-4769-f9b0-5fbc826192cc"
      },
      "execution_count": 21,
      "outputs": [
        {
          "output_type": "stream",
          "name": "stdout",
          "text": [
            "Model: \"sequential_2\"\n",
            "_________________________________________________________________\n",
            " Layer (type)                Output Shape              Param #   \n",
            "=================================================================\n",
            " flatten (Flatten)           (None, 84)                0         \n",
            "                                                                 \n",
            " dense_1 (Dense)             (None, 10)                850       \n",
            "                                                                 \n",
            " dense_2 (Dense)             (None, 1)                 11        \n",
            "                                                                 \n",
            "=================================================================\n",
            "Total params: 861\n",
            "Trainable params: 861\n",
            "Non-trainable params: 0\n",
            "_________________________________________________________________\n"
          ]
        }
      ]
    },
    {
      "cell_type": "code",
      "source": [
        "n_epochs = 20\n",
        "\n",
        "model_dense.compile(optimizer='rmsprop', loss='mse', metrics=['mae'])\n",
        "history_dense = model_dense.fit(train_dataset, epochs=n_epochs, validation_data=val_dataset)"
      ],
      "metadata": {
        "colab": {
          "base_uri": "https://localhost:8080/"
        },
        "id": "p0Hz1rX8LMfT",
        "outputId": "28c42ffb-df30-4357-9ffa-2b71c056b6cb"
      },
      "execution_count": 22,
      "outputs": [
        {
          "output_type": "stream",
          "name": "stdout",
          "text": [
            "Epoch 1/20\n",
            "80/80 [==============================] - 1s 8ms/step - loss: 141.3989 - mae: 10.7802 - val_loss: 122.8252 - val_mae: 9.9687\n",
            "Epoch 2/20\n",
            "80/80 [==============================] - 0s 6ms/step - loss: 115.1632 - mae: 9.7763 - val_loss: 98.1265 - val_mae: 8.9371\n",
            "Epoch 3/20\n",
            "80/80 [==============================] - 1s 6ms/step - loss: 87.6423 - mae: 8.4961 - val_loss: 73.1376 - val_mae: 7.6635\n",
            "Epoch 4/20\n",
            "80/80 [==============================] - 1s 8ms/step - loss: 62.1595 - mae: 7.0273 - val_loss: 51.2681 - val_mae: 6.1973\n",
            "Epoch 5/20\n",
            "80/80 [==============================] - 1s 6ms/step - loss: 43.0622 - mae: 5.6194 - val_loss: 37.1268 - val_mae: 5.0039\n",
            "Epoch 6/20\n",
            "80/80 [==============================] - 1s 8ms/step - loss: 33.4113 - mae: 4.7970 - val_loss: 31.2697 - val_mae: 4.5120\n",
            "Epoch 7/20\n",
            "80/80 [==============================] - 1s 8ms/step - loss: 29.8664 - mae: 4.4922 - val_loss: 29.3018 - val_mae: 4.3356\n",
            "Epoch 8/20\n",
            "80/80 [==============================] - 1s 6ms/step - loss: 28.0443 - mae: 4.3367 - val_loss: 28.1653 - val_mae: 4.2354\n",
            "Epoch 9/20\n",
            "80/80 [==============================] - 1s 8ms/step - loss: 26.5812 - mae: 4.2162 - val_loss: 27.0977 - val_mae: 4.1445\n",
            "Epoch 10/20\n",
            "80/80 [==============================] - 0s 6ms/step - loss: 25.1861 - mae: 4.1034 - val_loss: 25.9804 - val_mae: 4.0537\n",
            "Epoch 11/20\n",
            "80/80 [==============================] - 1s 6ms/step - loss: 23.8123 - mae: 3.9893 - val_loss: 24.7673 - val_mae: 3.9534\n",
            "Epoch 12/20\n",
            "80/80 [==============================] - 1s 6ms/step - loss: 22.4246 - mae: 3.8709 - val_loss: 23.4874 - val_mae: 3.8455\n",
            "Epoch 13/20\n",
            "80/80 [==============================] - 0s 6ms/step - loss: 21.0365 - mae: 3.7483 - val_loss: 22.1691 - val_mae: 3.7340\n",
            "Epoch 14/20\n",
            "80/80 [==============================] - 1s 7ms/step - loss: 19.6667 - mae: 3.6232 - val_loss: 20.8338 - val_mae: 3.6201\n",
            "Epoch 15/20\n",
            "80/80 [==============================] - 1s 6ms/step - loss: 18.3217 - mae: 3.4939 - val_loss: 19.5411 - val_mae: 3.5027\n",
            "Epoch 16/20\n",
            "80/80 [==============================] - 1s 6ms/step - loss: 17.0430 - mae: 3.3669 - val_loss: 18.2980 - val_mae: 3.3810\n",
            "Epoch 17/20\n",
            "80/80 [==============================] - 1s 8ms/step - loss: 15.8491 - mae: 3.2436 - val_loss: 17.1583 - val_mae: 3.2751\n",
            "Epoch 18/20\n",
            "80/80 [==============================] - 1s 8ms/step - loss: 14.7717 - mae: 3.1262 - val_loss: 16.1451 - val_mae: 3.1800\n",
            "Epoch 19/20\n",
            "80/80 [==============================] - 1s 8ms/step - loss: 13.8309 - mae: 3.0165 - val_loss: 15.2463 - val_mae: 3.0951\n",
            "Epoch 20/20\n",
            "80/80 [==============================] - 1s 6ms/step - loss: 13.0358 - mae: 2.9196 - val_loss: 14.5107 - val_mae: 3.0252\n"
          ]
        }
      ]
    },
    {
      "cell_type": "code",
      "source": [
        "# Plot MAE cures for validation and training\n",
        "plot_hist_regression(history_dense, baseline)"
      ],
      "metadata": {
        "colab": {
          "base_uri": "https://localhost:8080/",
          "height": 279
        },
        "id": "aBRYn-AKMCi4",
        "outputId": "6349e1f7-0498-4182-ea5c-057d7eafb6c3"
      },
      "execution_count": 23,
      "outputs": [
        {
          "output_type": "display_data",
          "data": {
            "text/plain": [
              "<Figure size 432x288 with 1 Axes>"
            ],
            "image/png": "[encoded data removed]"
          },
          "metadata": {
            "needs_background": "light"
          }
        }
      ]
    },
    {
      "cell_type": "markdown",
      "source": [
        "Validation loss is worse than what we had with our common-sense baseline, and we're already overfitting (MAE on training set is lower than on validation set). It turns out our previous baseline is not as easy to outperform as we thought!\n",
        "\n",
        "Remember our 'hypothesis space'? Using 2 Dense layers doesn't seem to be very useful in this case. We need other types of layers for this problem."
      ],
      "metadata": {
        "id": "1EJywOA5NJa9"
      }
    },
    {
      "cell_type": "code",
      "source": [
        "# We know that CNNs take advantage of neighbouring values, so why don't we try that?\n",
        "\n",
        "# In addition to the Conv2D layers we saw last week, there are Conv1D and Conv3D layers. \n",
        "# Conv1D layers rely on 1D windows that slide across an input sequence (imagine a 1D image)\n",
        "\n",
        "model_cnn = models.Sequential()\n",
        "model_cnn.add(layers.Conv1D(8, 7, activation='relu', input_shape=(sequence_length, len(df.columns)-1)))\n",
        "model_cnn.add(layers.MaxPooling1D(2))\n",
        "model_cnn.add(layers.Conv1D(8, 3, activation='relu'))\n",
        "model_cnn.add(layers.MaxPooling1D(2))\n",
        "model_cnn.add(layers.GlobalAveragePooling1D())\n",
        "model_cnn.add(layers.Dense(1))\n",
        "\n",
        "model_cnn.summary()"
      ],
      "metadata": {
        "colab": {
          "base_uri": "https://localhost:8080/"
        },
        "id": "k6PADykQPIjq",
        "outputId": "8830beb2-13ab-419d-8626-7ef2f6c5854c"
      },
      "execution_count": 24,
      "outputs": [
        {
          "output_type": "stream",
          "name": "stdout",
          "text": [
            "Model: \"sequential_3\"\n",
            "_________________________________________________________________\n",
            " Layer (type)                Output Shape              Param #   \n",
            "=================================================================\n",
            " conv1d (Conv1D)             (None, 8, 8)              344       \n",
            "                                                                 \n",
            " max_pooling1d (MaxPooling1D  (None, 4, 8)             0         \n",
            " )                                                               \n",
            "                                                                 \n",
            " conv1d_1 (Conv1D)           (None, 2, 8)              200       \n",
            "                                                                 \n",
            " max_pooling1d_1 (MaxPooling  (None, 1, 8)             0         \n",
            " 1D)                                                             \n",
            "                                                                 \n",
            " global_average_pooling1d (G  (None, 8)                0         \n",
            " lobalAveragePooling1D)                                          \n",
            "                                                                 \n",
            " dense_3 (Dense)             (None, 1)                 9         \n",
            "                                                                 \n",
            "=================================================================\n",
            "Total params: 553\n",
            "Trainable params: 553\n",
            "Non-trainable params: 0\n",
            "_________________________________________________________________\n"
          ]
        }
      ]
    },
    {
      "cell_type": "code",
      "source": [
        "model_cnn.compile(optimizer='rmsprop', loss='mse', metrics=['mae'])\n",
        "history_cnn = model_cnn.fit(train_dataset, epochs=n_epochs,\n",
        "                            validation_data=val_dataset)"
      ],
      "metadata": {
        "colab": {
          "base_uri": "https://localhost:8080/"
        },
        "id": "PSGRJSulQs22",
        "outputId": "08be3ff2-1169-437b-f150-5476b8f60650"
      },
      "execution_count": 25,
      "outputs": [
        {
          "output_type": "stream",
          "name": "stdout",
          "text": [
            "Epoch 1/20\n",
            "80/80 [==============================] - 1s 10ms/step - loss: 144.4286 - mae: 10.8012 - val_loss: 128.1461 - val_mae: 9.9531\n",
            "Epoch 2/20\n",
            "80/80 [==============================] - 1s 8ms/step - loss: 109.5220 - mae: 9.3162 - val_loss: 94.3189 - val_mae: 8.4627\n",
            "Epoch 3/20\n",
            "80/80 [==============================] - 1s 7ms/step - loss: 64.6862 - mae: 7.0643 - val_loss: 49.1090 - val_mae: 5.9818\n",
            "Epoch 4/20\n",
            "80/80 [==============================] - 1s 8ms/step - loss: 27.0397 - mae: 4.3680 - val_loss: 23.2351 - val_mae: 3.7427\n",
            "Epoch 5/20\n",
            "80/80 [==============================] - 1s 9ms/step - loss: 18.1777 - mae: 3.4447 - val_loss: 20.5648 - val_mae: 3.4170\n",
            "Epoch 6/20\n",
            "80/80 [==============================] - 0s 6ms/step - loss: 16.3822 - mae: 3.2580 - val_loss: 19.5155 - val_mae: 3.2591\n",
            "Epoch 7/20\n",
            "80/80 [==============================] - 1s 6ms/step - loss: 15.1318 - mae: 3.1209 - val_loss: 18.5923 - val_mae: 3.1425\n",
            "Epoch 8/20\n",
            "80/80 [==============================] - 1s 9ms/step - loss: 14.1220 - mae: 3.0103 - val_loss: 17.7879 - val_mae: 3.0557\n",
            "Epoch 9/20\n",
            "80/80 [==============================] - 0s 6ms/step - loss: 13.2952 - mae: 2.9211 - val_loss: 17.1336 - val_mae: 2.9912\n",
            "Epoch 10/20\n",
            "80/80 [==============================] - 1s 6ms/step - loss: 12.6252 - mae: 2.8483 - val_loss: 16.5285 - val_mae: 2.9412\n",
            "Epoch 11/20\n",
            "80/80 [==============================] - 0s 6ms/step - loss: 12.0504 - mae: 2.7842 - val_loss: 15.9048 - val_mae: 2.9006\n",
            "Epoch 12/20\n",
            "80/80 [==============================] - 1s 6ms/step - loss: 11.5578 - mae: 2.7286 - val_loss: 15.4134 - val_mae: 2.8702\n",
            "Epoch 13/20\n",
            "80/80 [==============================] - 1s 9ms/step - loss: 11.1495 - mae: 2.6829 - val_loss: 15.0034 - val_mae: 2.8459\n",
            "Epoch 14/20\n",
            "80/80 [==============================] - 1s 6ms/step - loss: 10.8071 - mae: 2.6451 - val_loss: 14.6636 - val_mae: 2.8251\n",
            "Epoch 15/20\n",
            "80/80 [==============================] - 0s 6ms/step - loss: 10.5174 - mae: 2.6120 - val_loss: 14.3562 - val_mae: 2.8050\n",
            "Epoch 16/20\n",
            "80/80 [==============================] - 1s 7ms/step - loss: 10.2537 - mae: 2.5802 - val_loss: 14.1118 - val_mae: 2.7885\n",
            "Epoch 17/20\n",
            "80/80 [==============================] - 1s 7ms/step - loss: 10.0277 - mae: 2.5517 - val_loss: 13.8530 - val_mae: 2.7704\n",
            "Epoch 18/20\n",
            "80/80 [==============================] - 1s 8ms/step - loss: 9.8189 - mae: 2.5249 - val_loss: 13.6093 - val_mae: 2.7524\n",
            "Epoch 19/20\n",
            "80/80 [==============================] - 1s 7ms/step - loss: 9.6204 - mae: 2.4988 - val_loss: 13.3912 - val_mae: 2.7349\n",
            "Epoch 20/20\n",
            "80/80 [==============================] - 1s 7ms/step - loss: 9.4374 - mae: 2.4751 - val_loss: 13.1685 - val_mae: 2.7170\n"
          ]
        }
      ]
    },
    {
      "cell_type": "code",
      "source": [
        "# Plot MAE cures for validation and training\n",
        "plot_hist_regression(history_cnn, baseline)"
      ],
      "metadata": {
        "colab": {
          "base_uri": "https://localhost:8080/",
          "height": 279
        },
        "id": "6bB6lzLYSG-u",
        "outputId": "fb06b029-a424-4586-d6d5-095f5794efa4"
      },
      "execution_count": 26,
      "outputs": [
        {
          "output_type": "display_data",
          "data": {
            "text/plain": [
              "<Figure size 432x288 with 1 Axes>"
            ],
            "image/png": "[encoded data removed]"
          },
          "metadata": {
            "needs_background": "light"
          }
        }
      ]
    },
    {
      "cell_type": "markdown",
      "source": [
        "This model isn't any better, with a validation MAE of 2.77 degrees (also worse than the 'common-sense approach' that we tried at first), and we're overfitting a bit too.\n",
        "\n",
        "Why?\n",
        "\n",
        "In timeseries, order matters a lot: the recent past is more informative than data from 5 days ago, and convolutional layers don't take advantage of this fact -- max pooling and global average pooling layers actually destroy this order information."
      ],
      "metadata": {
        "id": "Kc2iMPSHViL1"
      }
    },
    {
      "cell_type": "markdown",
      "metadata": {
        "id": "3ozUAZX__a0R"
      },
      "source": [
        "## Long Short Term Memory (LSTM) Neural Networks\n",
        "\n",
        "\n"
      ]
    },
    {
      "cell_type": "code",
      "execution_count": 27,
      "metadata": {
        "id": "2dWfiaUw_a0R",
        "colab": {
          "base_uri": "https://localhost:8080/"
        },
        "outputId": "43eff67d-0369-48a0-8b4c-574402d05bf8"
      },
      "outputs": [
        {
          "output_type": "stream",
          "name": "stdout",
          "text": [
            "Model: \"sequential_4\"\n",
            "_________________________________________________________________\n",
            " Layer (type)                Output Shape              Param #   \n",
            "=================================================================\n",
            " lstm_2 (LSTM)               (None, 20)                2160      \n",
            "                                                                 \n",
            " dense_4 (Dense)             (None, 1)                 21        \n",
            "                                                                 \n",
            "=================================================================\n",
            "Total params: 2,181\n",
            "Trainable params: 2,181\n",
            "Non-trainable params: 0\n",
            "_________________________________________________________________\n"
          ]
        }
      ],
      "source": [
        "# 1-layer LSTM\n",
        "\n",
        "model_lstm1 = models.Sequential()\n",
        "model_lstm1.add(layers.LSTM(20, input_shape=(sequence_length, len(df.columns)-1)))\n",
        "model_lstm1.add(layers.Dense(1))\n",
        "\n",
        "model_lstm1.summary()"
      ]
    },
    {
      "cell_type": "code",
      "source": [
        "n_epochs = 20"
      ],
      "metadata": {
        "id": "DMst2Mp0R0Xi"
      },
      "execution_count": 28,
      "outputs": []
    },
    {
      "cell_type": "code",
      "source": [
        "model_lstm1.compile(optimizer='rmsprop', loss='mse', metrics=['mae'])\n",
        "history_lstm1 = model_lstm1.fit(train_dataset, epochs=n_epochs,\n",
        "                            validation_data=val_dataset)"
      ],
      "metadata": {
        "colab": {
          "base_uri": "https://localhost:8080/"
        },
        "id": "Pff2tZQHXb-z",
        "outputId": "c67b06e7-7991-428e-9bed-6a5b7e00644f"
      },
      "execution_count": 29,
      "outputs": [
        {
          "output_type": "stream",
          "name": "stdout",
          "text": [
            "Epoch 1/20\n",
            "80/80 [==============================] - 5s 39ms/step - loss: 142.7362 - mae: 10.6312 - val_loss: 121.7005 - val_mae: 9.5859\n",
            "Epoch 2/20\n",
            "80/80 [==============================] - 2s 20ms/step - loss: 98.9461 - mae: 8.6290 - val_loss: 70.4020 - val_mae: 6.8861\n",
            "Epoch 3/20\n",
            "80/80 [==============================] - 2s 23ms/step - loss: 57.7911 - mae: 6.3291 - val_loss: 46.6063 - val_mae: 5.3688\n",
            "Epoch 4/20\n",
            "80/80 [==============================] - 2s 18ms/step - loss: 40.8448 - mae: 5.2571 - val_loss: 35.7701 - val_mae: 4.6821\n",
            "Epoch 5/20\n",
            "80/80 [==============================] - 1s 13ms/step - loss: 31.4139 - mae: 4.5647 - val_loss: 28.8296 - val_mae: 4.2294\n",
            "Epoch 6/20\n",
            "80/80 [==============================] - 1s 12ms/step - loss: 25.1739 - mae: 4.0806 - val_loss: 23.9487 - val_mae: 3.8863\n",
            "Epoch 7/20\n",
            "80/80 [==============================] - 1s 13ms/step - loss: 20.5904 - mae: 3.6843 - val_loss: 20.1954 - val_mae: 3.5796\n",
            "Epoch 8/20\n",
            "80/80 [==============================] - 1s 13ms/step - loss: 16.9835 - mae: 3.3389 - val_loss: 17.2101 - val_mae: 3.3064\n",
            "Epoch 9/20\n",
            "80/80 [==============================] - 1s 11ms/step - loss: 14.2048 - mae: 3.0454 - val_loss: 14.8650 - val_mae: 3.0732\n",
            "Epoch 10/20\n",
            "80/80 [==============================] - 1s 13ms/step - loss: 12.1007 - mae: 2.7964 - val_loss: 13.0411 - val_mae: 2.8737\n",
            "Epoch 11/20\n",
            "80/80 [==============================] - 1s 13ms/step - loss: 10.4879 - mae: 2.5940 - val_loss: 11.6352 - val_mae: 2.7153\n",
            "Epoch 12/20\n",
            "80/80 [==============================] - 1s 11ms/step - loss: 9.2489 - mae: 2.4273 - val_loss: 10.5267 - val_mae: 2.5872\n",
            "Epoch 13/20\n",
            "80/80 [==============================] - 1s 11ms/step - loss: 8.2921 - mae: 2.2914 - val_loss: 9.6261 - val_mae: 2.4808\n",
            "Epoch 14/20\n",
            "80/80 [==============================] - 1s 12ms/step - loss: 7.5568 - mae: 2.1845 - val_loss: 8.9206 - val_mae: 2.3962\n",
            "Epoch 15/20\n",
            "80/80 [==============================] - 1s 12ms/step - loss: 7.0005 - mae: 2.1045 - val_loss: 8.3770 - val_mae: 2.3309\n",
            "Epoch 16/20\n",
            "80/80 [==============================] - 1s 11ms/step - loss: 6.5825 - mae: 2.0422 - val_loss: 7.9492 - val_mae: 2.2780\n",
            "Epoch 17/20\n",
            "80/80 [==============================] - 1s 12ms/step - loss: 6.2511 - mae: 1.9905 - val_loss: 7.6014 - val_mae: 2.2297\n",
            "Epoch 18/20\n",
            "80/80 [==============================] - 1s 12ms/step - loss: 6.0045 - mae: 1.9491 - val_loss: 7.3110 - val_mae: 2.1866\n",
            "Epoch 19/20\n",
            "80/80 [==============================] - 1s 12ms/step - loss: 5.7564 - mae: 1.9097 - val_loss: 7.0588 - val_mae: 2.1462\n",
            "Epoch 20/20\n",
            "80/80 [==============================] - 1s 12ms/step - loss: 5.6026 - mae: 1.8806 - val_loss: 6.8408 - val_mae: 2.1098\n"
          ]
        }
      ]
    },
    {
      "cell_type": "code",
      "source": [
        "# Plot MAE cures for validation and training\n",
        "plot_hist_regression(history_lstm1, baseline)\n"
      ],
      "metadata": {
        "colab": {
          "base_uri": "https://localhost:8080/",
          "height": 279
        },
        "id": "hr-bgDUvXmvS",
        "outputId": "a3cfcddc-cece-4ab9-e111-fa18ad1bf5a2"
      },
      "execution_count": 30,
      "outputs": [
        {
          "output_type": "display_data",
          "data": {
            "text/plain": [
              "<Figure size 432x288 with 1 Axes>"
            ],
            "image/png": "[encoded data removed]"
          },
          "metadata": {
            "needs_background": "light"
          }
        }
      ]
    },
    {
      "cell_type": "code",
      "source": [
        "print('Test MAE = %.2f degrees' % model_lstm1.evaluate(test_dataset)[1])"
      ],
      "metadata": {
        "colab": {
          "base_uri": "https://localhost:8080/"
        },
        "id": "0fFZvXXUcQ67",
        "outputId": "57add2e1-4ded-47fa-8ae3-2e3164573ddb"
      },
      "execution_count": 31,
      "outputs": [
        {
          "output_type": "stream",
          "name": "stdout",
          "text": [
            "31/31 [==============================] - 0s 5ms/step - loss: 7.9648 - mae: 2.2097\n",
            "Test MAE = 2.21 degrees\n"
          ]
        }
      ]
    },
    {
      "cell_type": "markdown",
      "source": [
        "Success! We finally beat the common-sense baseline! The validation MAE now is 2.12 degrees, and the test MAE is 2.27.\n",
        "\n",
        "Why do LSTM layers work? Let's go back to the slides"
      ],
      "metadata": {
        "id": "bYSWwI1aXvwL"
      }
    },
    {
      "cell_type": "code",
      "source": [
        "# Adding dropout\n",
        "\n",
        "model_lstm2 = models.Sequential()\n",
        "model_lstm2.add(layers.LSTM(20, input_shape=(sequence_length, len(df.columns)-1), recurrent_dropout=0.25))\n",
        "model_lstm2.add(layers.Dropout(0.4))\n",
        "model_lstm2.add(layers.Dense(1))\n",
        "\n",
        "model_lstm2.summary()"
      ],
      "metadata": {
        "id": "acSYakeOcokB",
        "colab": {
          "base_uri": "https://localhost:8080/"
        },
        "outputId": "1f26415a-d221-4174-bef6-d82718744385"
      },
      "execution_count": 32,
      "outputs": [
        {
          "output_type": "stream",
          "name": "stdout",
          "text": [
            "Model: \"sequential_5\"\n",
            "_________________________________________________________________\n",
            " Layer (type)                Output Shape              Param #   \n",
            "=================================================================\n",
            " lstm_3 (LSTM)               (None, 20)                2160      \n",
            "                                                                 \n",
            " dropout (Dropout)           (None, 20)                0         \n",
            "                                                                 \n",
            " dense_5 (Dense)             (None, 1)                 21        \n",
            "                                                                 \n",
            "=================================================================\n",
            "Total params: 2,181\n",
            "Trainable params: 2,181\n",
            "Non-trainable params: 0\n",
            "_________________________________________________________________\n"
          ]
        }
      ]
    },
    {
      "cell_type": "code",
      "source": [
        "model_lstm2.compile(optimizer='rmsprop', loss='mse', metrics=['mae'])\n",
        "history_lstm2 = model_lstm2.fit(train_dataset, epochs=n_epochs,\n",
        "                            validation_data=val_dataset)"
      ],
      "metadata": {
        "colab": {
          "base_uri": "https://localhost:8080/"
        },
        "id": "LvRnf9TWSWf9",
        "outputId": "db630996-9012-467f-9b39-dab32eafcfb7"
      },
      "execution_count": 33,
      "outputs": [
        {
          "output_type": "stream",
          "name": "stdout",
          "text": [
            "Epoch 1/20\n",
            "80/80 [==============================] - 4s 21ms/step - loss: 136.6436 - mae: 10.5029 - val_loss: 115.8450 - val_mae: 9.4847\n",
            "80/80 [==============================] - 1s 15ms/step - loss: 95.9933 - mae: 8.5593 - val_loss: 69.3004 - val_mae: 6.8292\n",
            "Epoch 3/20\n",
            "80/80 [==============================] - 1s 15ms/step - loss: 57.7256 - mae: 6.2882 - val_loss: 46.2271 - val_mae: 5.3341\n",
            "Epoch 4/20\n",
            "80/80 [==============================] - 2s 20ms/step - loss: 42.2155 - mae: 5.2895 - val_loss: 35.8674 - val_mae: 4.6831\n",
            "Epoch 5/20\n",
            "80/80 [==============================] - 2s 30ms/step - loss: 34.5874 - mae: 4.7272 - val_loss: 28.8263 - val_mae: 4.1921\n",
            "Epoch 6/20\n",
            "80/80 [==============================] - 1s 16ms/step - loss: 28.1404 - mae: 4.2527 - val_loss: 24.2919 - val_mae: 3.8768\n",
            "Epoch 7/20\n",
            "80/80 [==============================] - 1s 15ms/step - loss: 25.1247 - mae: 4.0091 - val_loss: 20.4933 - val_mae: 3.5722\n",
            "Epoch 8/20\n",
            "80/80 [==============================] - 1s 16ms/step - loss: 21.2852 - mae: 3.6930 - val_loss: 17.8272 - val_mae: 3.3439\n",
            "Epoch 9/20\n",
            "80/80 [==============================] - 2s 20ms/step - loss: 17.6736 - mae: 3.3099 - val_loss: 15.7226 - val_mae: 3.1345\n",
            "Epoch 10/20\n",
            "80/80 [==============================] - 1s 16ms/step - loss: 16.5797 - mae: 3.2621 - val_loss: 13.3595 - val_mae: 2.8722\n",
            "Epoch 11/20\n",
            "80/80 [==============================] - 1s 17ms/step - loss: 15.9188 - mae: 3.1336 - val_loss: 11.8494 - val_mae: 2.7079\n",
            "Epoch 12/20\n",
            "80/80 [==============================] - 1s 16ms/step - loss: 14.0549 - mae: 2.9373 - val_loss: 11.2179 - val_mae: 2.6627\n",
            "Epoch 13/20\n",
            "80/80 [==============================] - 1s 16ms/step - loss: 13.4821 - mae: 2.8898 - val_loss: 9.7987 - val_mae: 2.4715\n",
            "Epoch 14/20\n",
            "80/80 [==============================] - 1s 16ms/step - loss: 12.9755 - mae: 2.8573 - val_loss: 9.1212 - val_mae: 2.3900\n",
            "Epoch 15/20\n",
            "80/80 [==============================] - 1s 15ms/step - loss: 12.0478 - mae: 2.7440 - val_loss: 8.5092 - val_mae: 2.3079\n",
            "Epoch 16/20\n",
            "80/80 [==============================] - 1s 18ms/step - loss: 12.3427 - mae: 2.7371 - val_loss: 8.2296 - val_mae: 2.2824\n",
            "Epoch 17/20\n",
            "80/80 [==============================] - 1s 18ms/step - loss: 11.9110 - mae: 2.7414 - val_loss: 7.8517 - val_mae: 2.2314\n",
            "Epoch 18/20\n",
            "80/80 [==============================] - 1s 17ms/step - loss: 12.3722 - mae: 2.7652 - val_loss: 7.6782 - val_mae: 2.2111\n",
            "Epoch 19/20\n",
            "80/80 [==============================] - 1s 17ms/step - loss: 11.2761 - mae: 2.6519 - val_loss: 7.5789 - val_mae: 2.2106\n",
            "Epoch 20/20\n",
            "80/80 [==============================] - 1s 16ms/step - loss: 10.4982 - mae: 2.5513 - val_loss: 7.4147 - val_mae: 2.1894\n"
          ]
        }
      ]
    },
    {
      "cell_type": "code",
      "source": [
        "# Plot MAE cures for validation and training\n",
        "plot_hist_regression(history_lstm2, baseline)"
      ],
      "metadata": {
        "colab": {
          "base_uri": "https://localhost:8080/",
          "height": 279
        },
        "id": "cWpm-j9iSck1",
        "outputId": "024af1ca-4e05-4c88-b78d-5cd1c9db857e"
      },
      "execution_count": 34,
      "outputs": [
        {
          "output_type": "display_data",
          "data": {
            "text/plain": [
              "<Figure size 432x288 with 1 Axes>"
            ],
            "image/png": "[encoded data removed]"
          },
          "metadata": {
            "needs_background": "light"
          }
        }
      ]
    },
    {
      "cell_type": "code",
      "source": [
        "print('Test MAE = %.2f degrees' % model_lstm2.evaluate(test_dataset)[1])"
      ],
      "metadata": {
        "colab": {
          "base_uri": "https://localhost:8080/"
        },
        "id": "rAIQrQDVSmSM",
        "outputId": "91fd5bca-9291-4a95-e8d2-518dadbe219d"
      },
      "execution_count": 35,
      "outputs": [
        {
          "output_type": "stream",
          "name": "stdout",
          "text": [
            "31/31 [==============================] - 0s 6ms/step - loss: 7.9478 - mae: 2.1863\n",
            "Test MAE = 2.19 degrees\n"
          ]
        }
      ]
    },
    {
      "cell_type": "markdown",
      "source": [
        "Note that validation set MAE is now lower than MAE on training set -- no longer overfitting. Validation MAE is 2.16 and test MAE is also 2.16.\n",
        "\n",
        "NOTE: This is a very simple dataset with very small differences in performance between different models.  You'll just have to take my word for it that *in general* this approach works. "
      ],
      "metadata": {
        "id": "H3OrpvE3S4gM"
      }
    },
    {
      "cell_type": "code",
      "source": [
        "# Performance in the previous figure can (maybe) still be improved\n",
        "# Let's try to add some more layers -- we can do this now that we're no longer overfitting\n",
        "\n",
        "model_lstm3 = models.Sequential()\n",
        "model_lstm3.add(layers.LSTM(20, input_shape=(sequence_length, len(df.columns)-1), recurrent_dropout=0.25, return_sequences=True))  # NEW!\n",
        "model_lstm3.add(layers.LSTM(20, input_shape=(sequence_length, len(df.columns)-1), recurrent_dropout=0.25))  # NEW!!\n",
        "model_lstm3.add(layers.Dropout(0.4))\n",
        "model_lstm3.add(layers.Dense(1))\n",
        "model_lstm3.summary()"
      ],
      "metadata": {
        "colab": {
          "base_uri": "https://localhost:8080/"
        },
        "id": "jq_ZDTttTX6_",
        "outputId": "30064ad7-b128-4d21-f183-d8e116a8cbde"
      },
      "execution_count": 36,
      "outputs": [
        {
          "output_type": "stream",
          "name": "stdout",
          "text": [
            "Model: \"sequential_6\"\n",
            "_________________________________________________________________\n",
            " Layer (type)                Output Shape              Param #   \n",
            "=================================================================\n",
            " lstm_4 (LSTM)               (None, 14, 20)            2160      \n",
            "                                                                 \n",
            " lstm_5 (LSTM)               (None, 20)                3280      \n",
            "                                                                 \n",
            " dropout_1 (Dropout)         (None, 20)                0         \n",
            "                                                                 \n",
            " dense_6 (Dense)             (None, 1)                 21        \n",
            "                                                                 \n",
            "=================================================================\n",
            "Total params: 5,461\n",
            "Trainable params: 5,461\n",
            "Non-trainable params: 0\n",
            "_________________________________________________________________\n"
          ]
        }
      ]
    },
    {
      "cell_type": "code",
      "source": [
        "model_lstm3.compile(optimizer='rmsprop', loss='mse', metrics=['mae'])\n",
        "\n",
        "callbacks = [EarlyStopping(monitor='val_mae', patience=2)]\n",
        "\n",
        "history_lstm3 = model_lstm3.fit(train_dataset, epochs=60,  # increased number of epochs\n",
        "                            validation_data=val_dataset,\n",
        "                            callbacks=callbacks)  # but added early stopping callback\n"
      ],
      "metadata": {
        "colab": {
          "base_uri": "https://localhost:8080/"
        },
        "id": "9xQXChtNUxzh",
        "outputId": "de25da2b-f653-4ec1-e1ce-51cbbb9d0586"
      },
      "execution_count": 37,
      "outputs": [
        {
          "output_type": "stream",
          "name": "stdout",
          "text": [
            "Epoch 1/60\n",
            "80/80 [==============================] - 6s 32ms/step - loss: 113.8146 - mae: 9.4996 - val_loss: 68.2743 - val_mae: 6.8149\n",
            "Epoch 2/60\n",
            "80/80 [==============================] - 2s 26ms/step - loss: 54.7303 - mae: 6.1109 - val_loss: 43.9568 - val_mae: 5.2178\n",
            "Epoch 3/60\n",
            "80/80 [==============================] - 2s 27ms/step - loss: 40.5347 - mae: 5.2372 - val_loss: 36.2292 - val_mae: 4.8152\n",
            "Epoch 4/60\n",
            "80/80 [==============================] - 2s 27ms/step - loss: 33.1852 - mae: 4.6503 - val_loss: 29.9301 - val_mae: 4.3799\n",
            "Epoch 5/60\n",
            "80/80 [==============================] - 2s 27ms/step - loss: 27.3369 - mae: 4.2106 - val_loss: 25.3162 - val_mae: 4.0439\n",
            "Epoch 6/60\n",
            "80/80 [==============================] - 2s 26ms/step - loss: 24.4280 - mae: 3.9644 - val_loss: 23.1089 - val_mae: 3.9265\n",
            "Epoch 7/60\n",
            "80/80 [==============================] - 2s 27ms/step - loss: 21.5693 - mae: 3.7207 - val_loss: 20.2763 - val_mae: 3.6730\n",
            "Epoch 8/60\n",
            "80/80 [==============================] - 2s 28ms/step - loss: 17.8502 - mae: 3.3877 - val_loss: 16.9932 - val_mae: 3.3120\n",
            "Epoch 9/60\n",
            "80/80 [==============================] - 2s 28ms/step - loss: 18.1166 - mae: 3.4050 - val_loss: 16.0251 - val_mae: 3.2307\n",
            "Epoch 10/60\n",
            "80/80 [==============================] - 2s 27ms/step - loss: 15.9422 - mae: 3.1795 - val_loss: 14.3736 - val_mae: 3.0570\n",
            "Epoch 11/60\n",
            "80/80 [==============================] - 2s 26ms/step - loss: 14.4731 - mae: 3.0573 - val_loss: 13.0422 - val_mae: 2.9096\n",
            "Epoch 12/60\n",
            "80/80 [==============================] - 2s 26ms/step - loss: 14.1652 - mae: 2.9990 - val_loss: 11.7439 - val_mae: 2.7527\n",
            "Epoch 13/60\n",
            "80/80 [==============================] - 2s 28ms/step - loss: 13.3622 - mae: 2.8744 - val_loss: 11.7581 - val_mae: 2.7822\n",
            "Epoch 14/60\n",
            "80/80 [==============================] - 2s 27ms/step - loss: 13.2542 - mae: 2.8872 - val_loss: 10.3364 - val_mae: 2.5905\n",
            "Epoch 15/60\n",
            "80/80 [==============================] - 2s 27ms/step - loss: 12.5529 - mae: 2.8282 - val_loss: 10.2621 - val_mae: 2.5928\n",
            "Epoch 16/60\n",
            "80/80 [==============================] - 2s 29ms/step - loss: 12.2992 - mae: 2.8063 - val_loss: 9.5429 - val_mae: 2.4972\n",
            "Epoch 17/60\n",
            "80/80 [==============================] - 2s 29ms/step - loss: 12.0738 - mae: 2.7648 - val_loss: 9.1255 - val_mae: 2.4421\n",
            "Epoch 18/60\n",
            "80/80 [==============================] - 2s 28ms/step - loss: 11.9999 - mae: 2.7256 - val_loss: 8.6933 - val_mae: 2.3880\n",
            "Epoch 19/60\n",
            "80/80 [==============================] - 2s 26ms/step - loss: 11.5276 - mae: 2.7212 - val_loss: 8.3320 - val_mae: 2.3412\n",
            "Epoch 20/60\n",
            "80/80 [==============================] - 2s 27ms/step - loss: 10.9486 - mae: 2.6476 - val_loss: 8.5116 - val_mae: 2.3722\n",
            "Epoch 21/60\n",
            "80/80 [==============================] - 2s 27ms/step - loss: 10.9942 - mae: 2.6437 - val_loss: 8.7982 - val_mae: 2.4036\n"
          ]
        }
      ]
    },
    {
      "cell_type": "code",
      "source": [
        "# Plot MAE cures for validation and training\n",
        "plot_hist_regression(history_lstm3, baseline)\n",
        "print('Test MAE = %.2f degrees' % model_lstm3.evaluate(test_dataset)[1])"
      ],
      "metadata": {
        "colab": {
          "base_uri": "https://localhost:8080/",
          "height": 314
        },
        "id": "PtFfB3YaU4k3",
        "outputId": "ca27f244-fe1a-43a5-df64-383ae6989ca7"
      },
      "execution_count": 38,
      "outputs": [
        {
          "output_type": "display_data",
          "data": {
            "text/plain": [
              "<Figure size 432x288 with 1 Axes>"
            ],
            "image/png": "[encoded data removed]"
          },
          "metadata": {
            "needs_background": "light"
          }
        },
        {
          "output_type": "stream",
          "name": "stdout",
          "text": [
            "31/31 [==============================] - 0s 7ms/step - loss: 8.9554 - mae: 2.3478\n",
            "Test MAE = 2.35 degrees\n"
          ]
        }
      ]
    },
    {
      "cell_type": "markdown",
      "source": [
        "Validation MAE = 1.92 degrees\n",
        "\n",
        "Test MAE = 1.89 degrees\n"
      ],
      "metadata": {
        "id": "eUJqRqp1XJnL"
      }
    },
    {
      "cell_type": "markdown",
      "source": [
        "# Text"
      ],
      "metadata": {
        "id": "zGEuNqw2csXj"
      }
    },
    {
      "cell_type": "markdown",
      "source": [
        "## Data prep\n",
        "\n",
        "We'll try to predict whether the review for a movie is positive or negative looking only at the text of the review.\n",
        "\n",
        "We'll use the IMDB text dataset for this task, which is available on `keras.datasets` and described [here](https://keras.io/api/datasets/imdb/). \n",
        "\n",
        "We'll merge the training and test sets and use 60% for training, 20% for validation, and 20% for testing.\n",
        "\n",
        "\n",
        "As this is a binary classificationp problem, we'll use the binary cross entropy loss function. We will keep track of accuracy when training and evaluating the model.\n"
      ],
      "metadata": {
        "id": "dtv0EjsTbwvm"
      }
    },
    {
      "cell_type": "code",
      "source": [
        "def plot_hist_classif(hist):\n",
        "  n_ = len(hist.history['accuracy'])\n",
        "  plt.plot(range(1, n_+1), 100*np.asarray(hist.history['accuracy']), 'bo', label='Accuracy on training set')\n",
        "  plt.plot(range(1, n_+1), 100*np.asarray(hist.history['val_accuracy']), 'b', label='Accuracy on validation set')\n",
        "  plt.legend()\n",
        "  plt.xlabel(\"Epoch\") \n",
        "  plt.ylabel(\"Accuracy\")\n",
        "  plt.ylim(0, 100)\n",
        "  plt.axhline(y=50)\n",
        "  plt.show()\n"
      ],
      "metadata": {
        "id": "i-mH-8IGwGo1"
      },
      "execution_count": 39,
      "outputs": []
    },
    {
      "cell_type": "code",
      "source": [
        "max_features = 15000  # only consider the top 15k words\n",
        "maxlen = 500  # first 500 words of each review\n",
        "batch_size = 32\n",
        "\n",
        "print('Loading data...')\n",
        "# Load dataset\n",
        "(x_train, y_train), (x_test, y_test) = keras.datasets.imdb.load_data(num_words=max_features)\n",
        "print(len(x_train), 'train sequences', x_train.shape)\n",
        "print(len(x_test), 'test sequences', x_test.shape)"
      ],
      "metadata": {
        "colab": {
          "base_uri": "https://localhost:8080/"
        },
        "id": "4TW3Vg49n5V-",
        "outputId": "f883d32d-ac12-4594-ceeb-52f4741eeb0f"
      },
      "execution_count": 40,
      "outputs": [
        {
          "output_type": "stream",
          "name": "stdout",
          "text": [
            "Loading data...\n",
            "25000 train sequences (25000,)\n",
            "25000 test sequences (25000,)\n"
          ]
        }
      ]
    },
    {
      "cell_type": "code",
      "source": [
        "# How balanced is this dataset?\n",
        "print(np.sum(y_train)/len(y_train))\n",
        "print(np.sum(y_test)/len(y_test))"
      ],
      "metadata": {
        "colab": {
          "base_uri": "https://localhost:8080/"
        },
        "id": "8ApTb-jYtSOm",
        "outputId": "1693a6bf-cfe8-44f2-dcbb-ef1150f5e858"
      },
      "execution_count": 41,
      "outputs": [
        {
          "output_type": "stream",
          "name": "stdout",
          "text": [
            "0.5\n",
            "0.5\n"
          ]
        }
      ]
    },
    {
      "cell_type": "code",
      "source": [
        "# Merge the two datasets and divide: 60% for training, 20% validation, 20% test\n",
        "x_, y_ = np.concatenate((x_train, x_test)), np.concatenate((y_train, y_test))\n",
        "print(x_.shape, y_.shape)\n",
        "x_train, x_test, y_train, y_test = train_test_split(x_, y_, test_size=0.4, random_state=10)  # 60/40 split\n",
        "x_val, x_test, y_val, y_test = train_test_split(x_test, y_test, test_size=0.5, random_state=10)  # 50/50 split\n",
        "print(len(x_train), 'train sequences', x_train.shape)\n",
        "print(len(x_val), 'validation sequences', x_val.shape)\n",
        "print(len(x_test), 'test sequences', x_test.shape)"
      ],
      "metadata": {
        "colab": {
          "base_uri": "https://localhost:8080/"
        },
        "id": "Z53Fbicqr8tm",
        "outputId": "3f47bf59-bd75-43d3-9756-784cf1e08006"
      },
      "execution_count": 42,
      "outputs": [
        {
          "output_type": "stream",
          "name": "stdout",
          "text": [
            "(50000,) (50000,)\n",
            "30000 train sequences (30000,)\n",
            "10000 validation sequences (10000,)\n",
            "10000 test sequences (10000,)\n"
          ]
        }
      ]
    },
    {
      "cell_type": "code",
      "source": [
        "x_train[0][:10]  # numbers!!"
      ],
      "metadata": {
        "colab": {
          "base_uri": "https://localhost:8080/"
        },
        "id": "5v_Hy-r8o8pR",
        "outputId": "6cc5ed8e-e606-485c-f6ac-ece6658f3caa"
      },
      "execution_count": 44,
      "outputs": [
        {
          "output_type": "execute_result",
          "data": {
            "text/plain": [
              "[1, 146, 770, 44, 4, 111, 668, 9921, 37, 60]"
            ]
          },
          "metadata": {},
          "execution_count": 44
        }
      ]
    },
    {
      "cell_type": "code",
      "source": [
        "# We can explore what one of the reviews looks like at this point.\n",
        "\n",
        "# Retrieve the word index file that maps words to indices\n",
        "word_index = keras.datasets.imdb.get_word_index()\n",
        "# Reverse the word index to obtain a dict mapping indices to words (which is what we have)\n",
        "inverted_word_index = dict((i, word) for (word, i) in word_index.items())\n",
        "# Decode the first sequence in the dataset\n",
        "decoded_sequence = \" \".join(inverted_word_index[i] for i in x_train[0])\n",
        "decoded_sequence"
      ],
      "metadata": {
        "colab": {
          "base_uri": "https://localhost:8080/",
          "height": 122
        },
        "id": "rgEgNSLBpFwh",
        "outputId": "7232d342-e9b0-4005-b7e1-0479c32a3076"
      },
      "execution_count": 45,
      "outputs": [
        {
          "output_type": "stream",
          "name": "stdout",
          "text": [
            "Downloading data from https://storage.googleapis.com/tensorflow/tf-keras-datasets/imdb_word_index.json\n",
            "1646592/1641221 [==============================] - 0s 0us/step\n",
            "1654784/1641221 [==============================] - 0s 0us/step\n"
          ]
        },
        {
          "output_type": "execute_result",
          "data": {
            "text/plain": [
              "\"the watching named has of plot power stevenson like which own as you still soviet only between has as you with for of hat night it respect to forced redford to unbelievably next brighter popular to is during level lose he famous warming engaging first you guess who of reviewing and of today to of act interacting he and desperate rod of retire take summer of gives br incredibly lovely and simple love to ends he direct they where not what have few but of sequel missed warming have he this of times put scene to of before then one so animated changed i i wanted didn't\""
            ],
            "application/vnd.google.colaboratory.intrinsic+json": {
              "type": "string"
            }
          },
          "metadata": {},
          "execution_count": 45
        }
      ]
    },
    {
      "cell_type": "code",
      "source": [
        "# Let's ensure all sequences have the same length through padding\n",
        "# - shorter reviews are padded with 0's\n",
        "# - longer reviews are cut\n",
        "print('Pad sequences')\n",
        "x_train = keras.preprocessing.sequence.pad_sequences(x_train, maxlen=maxlen)\n",
        "x_val = keras.preprocessing.sequence.pad_sequences(x_val, maxlen=maxlen)\n",
        "x_test = keras.preprocessing.sequence.pad_sequences(x_test, maxlen=maxlen)\n",
        "print('x_train shape:', x_train.shape)\n",
        "print('x_val shape:', x_val.shape)\n",
        "print('x_test shape:', x_test.shape)"
      ],
      "metadata": {
        "colab": {
          "base_uri": "https://localhost:8080/"
        },
        "id": "ibmO0V-gcthG",
        "outputId": "274a103a-b95d-4e47-d913-774915173372"
      },
      "execution_count": 46,
      "outputs": [
        {
          "output_type": "stream",
          "name": "stdout",
          "text": [
            "Pad sequences\n",
            "x_train shape: (24000, 500)\n",
            "x_val shape: (8000, 500)\n",
            "x_test shape: (8000, 500)\n"
          ]
        }
      ]
    },
    {
      "cell_type": "code",
      "source": [
        "# Basic feedforward model\n",
        "model = models.Sequential()\n",
        "model.add(layers.Embedding(max_features, 128, input_length=maxlen))\n",
        "model.add(layers.Dense(64, activation='relu'))\n",
        "model.add(layers.Dropout(0.5))\n",
        "model.add(layers.Dense(64, activation='relu'))\n",
        "model.add(layers.Dropout(0.5))\n",
        "model.add(layers.Flatten())\n",
        "model.add(layers.Dense(1, activation=\"sigmoid\"))\n",
        "model.summary()"
      ],
      "metadata": {
        "colab": {
          "base_uri": "https://localhost:8080/"
        },
        "id": "sBpQpwBAk44H",
        "outputId": "9daf3d8a-4d91-4a22-c98d-660f9e3830c7"
      },
      "execution_count": 47,
      "outputs": [
        {
          "output_type": "stream",
          "name": "stdout",
          "text": [
            "Model: \"sequential_7\"\n",
            "_________________________________________________________________\n",
            " Layer (type)                Output Shape              Param #   \n",
            "=================================================================\n",
            " embedding_1 (Embedding)     (None, 500, 128)          1920000   \n",
            "                                                                 \n",
            " dense_7 (Dense)             (None, 500, 64)           8256      \n",
            "                                                                 \n",
            " dropout_2 (Dropout)         (None, 500, 64)           0         \n",
            "                                                                 \n",
            " dense_8 (Dense)             (None, 500, 64)           4160      \n",
            "                                                                 \n",
            " dropout_3 (Dropout)         (None, 500, 64)           0         \n",
            "                                                                 \n",
            " flatten_1 (Flatten)         (None, 32000)             0         \n",
            "                                                                 \n",
            " dense_9 (Dense)             (None, 1)                 32001     \n",
            "                                                                 \n",
            "=================================================================\n",
            "Total params: 1,964,417\n",
            "Trainable params: 1,964,417\n",
            "Non-trainable params: 0\n",
            "_________________________________________________________________\n"
          ]
        }
      ]
    },
    {
      "cell_type": "code",
      "source": [
        "model.compile(optimizer=\"rmsprop\", loss=\"binary_crossentropy\", metrics=[\"accuracy\"])\n",
        "history = model.fit(x_train, y_train, batch_size=batch_size, epochs=20, validation_data=(x_val, y_val))"
      ],
      "metadata": {
        "colab": {
          "base_uri": "https://localhost:8080/"
        },
        "id": "-8c7tCS5vrC3",
        "outputId": "75eeef58-b69e-4164-8241-72649e578a2f"
      },
      "execution_count": 48,
      "outputs": [
        {
          "output_type": "stream",
          "name": "stdout",
          "text": [
            "Epoch 1/20\n",
            "750/750 [==============================] - 55s 73ms/step - loss: 0.4553 - accuracy: 0.7570 - val_loss: 0.2636 - val_accuracy: 0.8881\n",
            "Epoch 2/20\n",
            "750/750 [==============================] - 55s 73ms/step - loss: 0.2474 - accuracy: 0.9013 - val_loss: 0.3031 - val_accuracy: 0.8689\n",
            "Epoch 3/20\n",
            "750/750 [==============================] - 54s 72ms/step - loss: 0.2061 - accuracy: 0.9209 - val_loss: 0.2559 - val_accuracy: 0.8972\n",
            "Epoch 4/20\n",
            "750/750 [==============================] - 54s 72ms/step - loss: 0.1837 - accuracy: 0.9319 - val_loss: 0.2619 - val_accuracy: 0.8944\n",
            "Epoch 5/20\n",
            "750/750 [==============================] - 53s 70ms/step - loss: 0.1669 - accuracy: 0.9377 - val_loss: 0.2712 - val_accuracy: 0.8894\n",
            "Epoch 6/20\n",
            "750/750 [==============================] - 53s 71ms/step - loss: 0.1537 - accuracy: 0.9444 - val_loss: 0.2686 - val_accuracy: 0.8966\n",
            "Epoch 7/20\n",
            "750/750 [==============================] - 54s 72ms/step - loss: 0.1422 - accuracy: 0.9479 - val_loss: 0.2932 - val_accuracy: 0.8852\n",
            "Epoch 8/20\n",
            "750/750 [==============================] - 54s 72ms/step - loss: 0.1389 - accuracy: 0.9492 - val_loss: 0.2800 - val_accuracy: 0.8886\n",
            "Epoch 9/20\n",
            "750/750 [==============================] - 53s 70ms/step - loss: 0.1275 - accuracy: 0.9538 - val_loss: 0.3056 - val_accuracy: 0.8889\n",
            "Epoch 10/20\n",
            "750/750 [==============================] - 54s 71ms/step - loss: 0.1195 - accuracy: 0.9565 - val_loss: 0.3020 - val_accuracy: 0.8901\n",
            "Epoch 11/20\n",
            "750/750 [==============================] - 53s 71ms/step - loss: 0.1145 - accuracy: 0.9575 - val_loss: 0.3147 - val_accuracy: 0.8875\n",
            "Epoch 12/20\n",
            "750/750 [==============================] - 53s 71ms/step - loss: 0.1073 - accuracy: 0.9622 - val_loss: 0.3293 - val_accuracy: 0.8850\n",
            "Epoch 13/20\n",
            "750/750 [==============================] - 54s 72ms/step - loss: 0.0965 - accuracy: 0.9656 - val_loss: 0.3476 - val_accuracy: 0.8794\n",
            "Epoch 14/20\n",
            "750/750 [==============================] - 54s 72ms/step - loss: 0.0950 - accuracy: 0.9656 - val_loss: 0.3544 - val_accuracy: 0.8815\n",
            "Epoch 15/20\n",
            "750/750 [==============================] - 54s 72ms/step - loss: 0.0849 - accuracy: 0.9692 - val_loss: 0.3660 - val_accuracy: 0.8799\n",
            "Epoch 16/20\n",
            "750/750 [==============================] - 54s 72ms/step - loss: 0.0846 - accuracy: 0.9699 - val_loss: 0.3841 - val_accuracy: 0.8785\n",
            "Epoch 17/20\n",
            "750/750 [==============================] - 53s 71ms/step - loss: 0.0772 - accuracy: 0.9735 - val_loss: 0.4934 - val_accuracy: 0.8601\n",
            "Epoch 18/20\n",
            "750/750 [==============================] - 53s 71ms/step - loss: 0.0731 - accuracy: 0.9737 - val_loss: 0.4141 - val_accuracy: 0.8752\n",
            "Epoch 19/20\n",
            "750/750 [==============================] - 54s 71ms/step - loss: 0.0699 - accuracy: 0.9756 - val_loss: 0.4307 - val_accuracy: 0.8776\n",
            "Epoch 20/20\n",
            "750/750 [==============================] - 54s 72ms/step - loss: 0.0630 - accuracy: 0.9782 - val_loss: 0.4784 - val_accuracy: 0.8719\n"
          ]
        }
      ]
    },
    {
      "cell_type": "code",
      "source": [
        "plot_hist_classif(history)\n",
        "print('Test Accuracy = %.2f' % model.evaluate(x_test, y_test)[1])  # overfitting!"
      ],
      "metadata": {
        "colab": {
          "base_uri": "https://localhost:8080/",
          "height": 318
        },
        "id": "dKBVw5mHv_oX",
        "outputId": "b72bc25b-449b-4232-c0b8-99008dc6ac8f"
      },
      "execution_count": 49,
      "outputs": [
        {
          "output_type": "display_data",
          "data": {
            "text/plain": [
              "<Figure size 432x288 with 1 Axes>"
            ],
            "image/png": "[encoded data removed]"
          },
          "metadata": {
            "needs_background": "light"
          }
        },
        {
          "output_type": "stream",
          "name": "stdout",
          "text": [
            "250/250 [==============================] - 4s 15ms/step - loss: 0.5101 - accuracy: 0.8736\n",
            "Test Accuracy = 0.87\n"
          ]
        }
      ]
    },
    {
      "cell_type": "code",
      "source": [
        "# Let's try an RNN\n",
        "model = models.Sequential()\n",
        "model.add(layers.Embedding(max_features, 64))\n",
        "model.add(layers.LSTM(128, return_sequences=False))\n",
        "model.add(layers.Dropout(0.5))\n",
        "model.add(layers.Dense(1, activation=\"sigmoid\"))\n",
        "model.compile(optimizer=\"rmsprop\", loss=\"binary_crossentropy\", metrics=[\"accuracy\"])\n",
        "model.summary()"
      ],
      "metadata": {
        "colab": {
          "base_uri": "https://localhost:8080/"
        },
        "id": "Ieh7Wl9Pwh8V",
        "outputId": "1cf507d8-d7b8-4b18-a939-ec07f91b40cd"
      },
      "execution_count": 50,
      "outputs": [
        {
          "output_type": "stream",
          "name": "stdout",
          "text": [
            "Model: \"sequential_8\"\n",
            "_________________________________________________________________\n",
            " Layer (type)                Output Shape              Param #   \n",
            "=================================================================\n",
            " embedding_2 (Embedding)     (None, None, 64)          960000    \n",
            "                                                                 \n",
            " lstm_6 (LSTM)               (None, 128)               98816     \n",
            "                                                                 \n",
            " dropout_4 (Dropout)         (None, 128)               0         \n",
            "                                                                 \n",
            " dense_10 (Dense)            (None, 1)                 129       \n",
            "                                                                 \n",
            "=================================================================\n",
            "Total params: 1,058,945\n",
            "Trainable params: 1,058,945\n",
            "Non-trainable params: 0\n",
            "_________________________________________________________________\n"
          ]
        }
      ]
    },
    {
      "cell_type": "code",
      "source": [
        "# This model will take a long time to train, so we add an early stopping criterion\n",
        "# N.B: It's actually much faster to train WITHOUT A GPU!!\n",
        "callbacks = [EarlyStopping(monitor='val_accuracy', patience=2)]\n",
        "history = model.fit(x_train, y_train, batch_size=batch_size, epochs=20, validation_data=(x_val, y_val), callbacks=callbacks)\n",
        "plot_hist_classif(history)\n",
        "print('Test Accuracy = %.2f' % model.evaluate(x_test, y_test)[1])\n",
        "# Note that we're still overfitting, but this is just an example of use"
      ],
      "metadata": {
        "colab": {
          "base_uri": "https://localhost:8080/",
          "height": 561
        },
        "id": "Sd54xZMmxKBQ",
        "outputId": "af40e3df-786f-45eb-e2d9-2f5bde88070d"
      },
      "execution_count": 51,
      "outputs": [
        {
          "output_type": "stream",
          "name": "stdout",
          "text": [
            "Epoch 1/20\n",
            "750/750 [==============================] - 403s 536ms/step - loss: 0.4370 - accuracy: 0.8072 - val_loss: 0.3926 - val_accuracy: 0.8361\n",
            "Epoch 2/20\n",
            "750/750 [==============================] - 402s 536ms/step - loss: 0.2772 - accuracy: 0.8925 - val_loss: 0.3033 - val_accuracy: 0.8764\n",
            "Epoch 3/20\n",
            "750/750 [==============================] - 398s 531ms/step - loss: 0.2343 - accuracy: 0.9130 - val_loss: 0.2669 - val_accuracy: 0.8906\n",
            "Epoch 4/20\n",
            "750/750 [==============================] - 415s 554ms/step - loss: 0.2048 - accuracy: 0.9262 - val_loss: 0.3246 - val_accuracy: 0.8559\n",
            "Epoch 5/20\n",
            "750/750 [==============================] - 414s 552ms/step - loss: 0.1797 - accuracy: 0.9369 - val_loss: 0.2757 - val_accuracy: 0.8979\n",
            "Epoch 6/20\n",
            "750/750 [==============================] - 414s 552ms/step - loss: 0.1540 - accuracy: 0.9461 - val_loss: 0.3237 - val_accuracy: 0.8961\n",
            "Epoch 7/20\n",
            "750/750 [==============================] - 412s 549ms/step - loss: 0.1408 - accuracy: 0.9534 - val_loss: 0.2670 - val_accuracy: 0.8971\n"
          ]
        },
        {
          "output_type": "display_data",
          "data": {
            "text/plain": [
              "<Figure size 432x288 with 1 Axes>"
            ],
            "image/png": "[encoded data removed]"
          },
          "metadata": {
            "needs_background": "light"
          }
        },
        {
          "output_type": "stream",
          "name": "stdout",
          "text": [
            "250/250 [==============================] - 34s 136ms/step - loss: 0.2809 - accuracy: 0.8945\n",
            "Test Accuracy = 0.89\n"
          ]
        }
      ]
    },
    {
      "cell_type": "markdown",
      "source": [
        "## Your turn!\n",
        "\n",
        "Implement a bidirectional RNN that can outperform the LSTM model we had above.\n",
        "\n",
        "A starting skeleton could be:\n",
        " \n",
        "*   Embedding layer with an output dimension of 64\n",
        "*   Bidirectional layer with a 32-neuron LSTM layer\n",
        "*   Dense layer with 1 neuron and a sigmoid activation\n",
        "\n",
        "Some suggestions:\n",
        "\n",
        "- Change the sizes of the layers (i.e., the numbers of neurons)\n",
        "- Add dropout\n",
        "- Add other recurrent and/or bidirectional layers\n",
        "\n",
        "Once you have a model that scores over 90% on the validation set, check its performance on the test set and upload it on the code checker in Moodle.\n",
        "\n",
        "Note that the model I'm suggesting above will be able to reach the desired performance, but it will show signs of overfitting. Can you do it by adding regularization (dropout, smaller network) so you don't overfit?\n"
      ],
      "metadata": {
        "id": "kzZhXm5gkz_g"
      }
    },
    {
      "cell_type": "code",
      "source": [
        "n_ = 10  # number of epochs. You can edit this\n",
        "\n",
        "model = models.Sequential()\n",
        "# YOUR CODE HERE!\n",
        "model.add(layers.Embedding(max_features, 64))\n",
        "model.add(layers.Bidirectional(layers.LSTM(10, return_sequences=True)))\n",
        "model.add(layers.Bidirectional(layers.LSTM(10)))\n",
        "model.add(layers.Dense(3))\n",
        "model.add(layers.Activation('sigmoid'))\n",
        "\n",
        "# I DON'T RECOMMEND THAT YOU CHANGE CODE AFTER THIS POINT\n",
        "model.compile(optimizer=\"rmsprop\", loss=\"binary_crossentropy\", metrics=[\"accuracy\"])\n",
        "\n",
        "print(model.summary())\n",
        "\n",
        "# This model will take a long time to train, so we add an early stopping criterion\n",
        "# I've also added a ModelCheckpoint that will save the best model according to val_accuracy regardless of whether we continue training\n",
        "callbacks = [EarlyStopping(monitor='val_accuracy', patience=1),\n",
        "             ModelCheckpoint(\"model.keras\", save_best_only=True, monitor=\"val_accuracy\", mode='max')]\n",
        "\n",
        "history = model.fit(x_train, y_train, batch_size=batch_size, epochs=n_, \n",
        "                    validation_data=(x_val, y_val), \n",
        "                    callbacks=callbacks)\n",
        "plot_hist_classif(history)\n",
        "model = keras.models.load_model(\"model.keras\")\n",
        "print('Test Accuracy = %.2f' % model.evaluate(x_test, y_test)[1])"
      ],
      "metadata": {
        "id": "jCHOC7dyadaj",
        "outputId": "804bdf12-c49b-4085-e33c-397f688bbc44",
        "colab": {
          "base_uri": "https://localhost:8080/",
          "height": 1000
        }
      },
      "execution_count": 60,
      "outputs": [
        {
          "output_type": "stream",
          "name": "stdout",
          "text": [
            "Model: \"sequential_15\"\n",
            "_________________________________________________________________\n",
            " Layer (type)                Output Shape              Param #   \n",
            "=================================================================\n",
            " embedding_9 (Embedding)     (None, None, 64)          960000    \n",
            "                                                                 \n",
            " bidirectional_14 (Bidirecti  (None, None, 20)         6000      \n",
            " onal)                                                           \n",
            "                                                                 \n",
            " bidirectional_15 (Bidirecti  (None, 20)               2480      \n",
            " onal)                                                           \n",
            "                                                                 \n",
            " dense_17 (Dense)            (None, 3)                 63        \n",
            "                                                                 \n",
            " activation_7 (Activation)   (None, 3)                 0         \n",
            "                                                                 \n",
            "=================================================================\n",
            "Total params: 968,543\n",
            "Trainable params: 968,543\n",
            "Non-trainable params: 0\n",
            "_________________________________________________________________\n",
            "None\n",
            "Epoch 1/10\n"
          ]
        },
        {
          "output_type": "error",
          "ename": "ValueError",
          "evalue": "ignored",
          "traceback": [
            "\u001b[0;31m---------------------------------------------------------------------------\u001b[0m",
            "\u001b[0;31mValueError\u001b[0m                                Traceback (most recent call last)",
            "\u001b[0;32m<ipython-input-60-37daf7ae5b75>\u001b[0m in \u001b[0;36m<module>\u001b[0;34m()\u001b[0m\n\u001b[1;32m     21\u001b[0m history = model.fit(x_train, y_train, batch_size=batch_size, epochs=n_, \n\u001b[1;32m     22\u001b[0m                     \u001b[0mvalidation_data\u001b[0m\u001b[0;34m=\u001b[0m\u001b[0;34m(\u001b[0m\u001b[0mx_val\u001b[0m\u001b[0;34m,\u001b[0m \u001b[0my_val\u001b[0m\u001b[0;34m)\u001b[0m\u001b[0;34m,\u001b[0m\u001b[0;34m\u001b[0m\u001b[0;34m\u001b[0m\u001b[0m\n\u001b[0;32m---> 23\u001b[0;31m                     callbacks=callbacks)\n\u001b[0m\u001b[1;32m     24\u001b[0m \u001b[0mplot_hist_classif\u001b[0m\u001b[0;34m(\u001b[0m\u001b[0mhistory\u001b[0m\u001b[0;34m)\u001b[0m\u001b[0;34m\u001b[0m\u001b[0;34m\u001b[0m\u001b[0m\n\u001b[1;32m     25\u001b[0m \u001b[0mmodel\u001b[0m \u001b[0;34m=\u001b[0m \u001b[0mkeras\u001b[0m\u001b[0;34m.\u001b[0m\u001b[0mmodels\u001b[0m\u001b[0;34m.\u001b[0m\u001b[0mload_model\u001b[0m\u001b[0;34m(\u001b[0m\u001b[0;34m\"model.keras\"\u001b[0m\u001b[0;34m)\u001b[0m\u001b[0;34m\u001b[0m\u001b[0;34m\u001b[0m\u001b[0m\n",
            "\u001b[0;32m/usr/local/lib/python3.7/dist-packages/keras/utils/traceback_utils.py\u001b[0m in \u001b[0;36merror_handler\u001b[0;34m(*args, **kwargs)\u001b[0m\n\u001b[1;32m     65\u001b[0m     \u001b[0;32mexcept\u001b[0m \u001b[0mException\u001b[0m \u001b[0;32mas\u001b[0m \u001b[0me\u001b[0m\u001b[0;34m:\u001b[0m  \u001b[0;31m# pylint: disable=broad-except\u001b[0m\u001b[0;34m\u001b[0m\u001b[0;34m\u001b[0m\u001b[0m\n\u001b[1;32m     66\u001b[0m       \u001b[0mfiltered_tb\u001b[0m \u001b[0;34m=\u001b[0m \u001b[0m_process_traceback_frames\u001b[0m\u001b[0;34m(\u001b[0m\u001b[0me\u001b[0m\u001b[0;34m.\u001b[0m\u001b[0m__traceback__\u001b[0m\u001b[0;34m)\u001b[0m\u001b[0;34m\u001b[0m\u001b[0;34m\u001b[0m\u001b[0m\n\u001b[0;32m---> 67\u001b[0;31m       \u001b[0;32mraise\u001b[0m \u001b[0me\u001b[0m\u001b[0;34m.\u001b[0m\u001b[0mwith_traceback\u001b[0m\u001b[0;34m(\u001b[0m\u001b[0mfiltered_tb\u001b[0m\u001b[0;34m)\u001b[0m \u001b[0;32mfrom\u001b[0m \u001b[0;32mNone\u001b[0m\u001b[0;34m\u001b[0m\u001b[0;34m\u001b[0m\u001b[0m\n\u001b[0m\u001b[1;32m     68\u001b[0m     \u001b[0;32mfinally\u001b[0m\u001b[0;34m:\u001b[0m\u001b[0;34m\u001b[0m\u001b[0;34m\u001b[0m\u001b[0m\n\u001b[1;32m     69\u001b[0m       \u001b[0;32mdel\u001b[0m \u001b[0mfiltered_tb\u001b[0m\u001b[0;34m\u001b[0m\u001b[0;34m\u001b[0m\u001b[0m\n",
            "\u001b[0;32m/usr/local/lib/python3.7/dist-packages/tensorflow/python/framework/func_graph.py\u001b[0m in \u001b[0;36mautograph_handler\u001b[0;34m(*args, **kwargs)\u001b[0m\n\u001b[1;32m   1145\u001b[0m           \u001b[0;32mexcept\u001b[0m \u001b[0mException\u001b[0m \u001b[0;32mas\u001b[0m \u001b[0me\u001b[0m\u001b[0;34m:\u001b[0m  \u001b[0;31m# pylint:disable=broad-except\u001b[0m\u001b[0;34m\u001b[0m\u001b[0;34m\u001b[0m\u001b[0m\n\u001b[1;32m   1146\u001b[0m             \u001b[0;32mif\u001b[0m \u001b[0mhasattr\u001b[0m\u001b[0;34m(\u001b[0m\u001b[0me\u001b[0m\u001b[0;34m,\u001b[0m \u001b[0;34m\"ag_error_metadata\"\u001b[0m\u001b[0;34m)\u001b[0m\u001b[0;34m:\u001b[0m\u001b[0;34m\u001b[0m\u001b[0;34m\u001b[0m\u001b[0m\n\u001b[0;32m-> 1147\u001b[0;31m               \u001b[0;32mraise\u001b[0m \u001b[0me\u001b[0m\u001b[0;34m.\u001b[0m\u001b[0mag_error_metadata\u001b[0m\u001b[0;34m.\u001b[0m\u001b[0mto_exception\u001b[0m\u001b[0;34m(\u001b[0m\u001b[0me\u001b[0m\u001b[0;34m)\u001b[0m\u001b[0;34m\u001b[0m\u001b[0;34m\u001b[0m\u001b[0m\n\u001b[0m\u001b[1;32m   1148\u001b[0m             \u001b[0;32melse\u001b[0m\u001b[0;34m:\u001b[0m\u001b[0;34m\u001b[0m\u001b[0;34m\u001b[0m\u001b[0m\n\u001b[1;32m   1149\u001b[0m               \u001b[0;32mraise\u001b[0m\u001b[0;34m\u001b[0m\u001b[0;34m\u001b[0m\u001b[0m\n",
            "\u001b[0;31mValueError\u001b[0m: in user code:\n\n    File \"/usr/local/lib/python3.7/dist-packages/keras/engine/training.py\", line 1021, in train_function  *\n        return step_function(self, iterator)\n    File \"/usr/local/lib/python3.7/dist-packages/keras/engine/training.py\", line 1010, in step_function  **\n        outputs = model.distribute_strategy.run(run_step, args=(data,))\n    File \"/usr/local/lib/python3.7/dist-packages/keras/engine/training.py\", line 1000, in run_step  **\n        outputs = model.train_step(data)\n    File \"/usr/local/lib/python3.7/dist-packages/keras/engine/training.py\", line 860, in train_step\n        loss = self.compute_loss(x, y, y_pred, sample_weight)\n    File \"/usr/local/lib/python3.7/dist-packages/keras/engine/training.py\", line 919, in compute_loss\n        y, y_pred, sample_weight, regularization_losses=self.losses)\n    File \"/usr/local/lib/python3.7/dist-packages/keras/engine/compile_utils.py\", line 201, in __call__\n        loss_value = loss_obj(y_t, y_p, sample_weight=sw)\n    File \"/usr/local/lib/python3.7/dist-packages/keras/losses.py\", line 141, in __call__\n        losses = call_fn(y_true, y_pred)\n    File \"/usr/local/lib/python3.7/dist-packages/keras/losses.py\", line 245, in call  **\n        return ag_fn(y_true, y_pred, **self._fn_kwargs)\n    File \"/usr/local/lib/python3.7/dist-packages/keras/losses.py\", line 1932, in binary_crossentropy\n        backend.binary_crossentropy(y_true, y_pred, from_logits=from_logits),\n    File \"/usr/local/lib/python3.7/dist-packages/keras/backend.py\", line 5247, in binary_crossentropy\n        return tf.nn.sigmoid_cross_entropy_with_logits(labels=target, logits=output)\n\n    ValueError: `logits` and `labels` must have the same shape, received ((32, 3) vs (32, 1)).\n"
          ]
        }
      ]
    },
    {
      "cell_type": "code",
      "source": [
        "if model.count_params() > 1000000:\n",
        "    print(\"Due to memory constraints on Moodle, the lab quiz has a 10MB limit on your model size, so you need to use a smaller model to validate through the auto-marker.\")\n",
        "\n",
        "if history.history[\"val_accuracy\"][-1] > 0.9:\n",
        "    print(\"Your model is accurate enough!\")\n",
        "\n",
        "else:\n",
        "    print(\"Accuracy is below the threshold!\")\n",
        "    raise Exception(\"Your model isn't accurate enough to pass the progress checker!\")\n",
        "# Save the model into a local folder\n",
        "keras.models.save_model(model, \"Model.h5\",save_format='h5')\n",
        "print('Model saved! You can now upload it to the lab quiz.')"
      ],
      "metadata": {
        "id": "ZFBmg66_CR7y",
        "outputId": "6f45b03d-119a-4985-9026-a1ed0eaf177f",
        "colab": {
          "base_uri": "https://localhost:8080/",
          "height": 253
        }
      },
      "execution_count": 57,
      "outputs": [
        {
          "output_type": "stream",
          "name": "stdout",
          "text": [
            "Accuracy is below the threshold!\n"
          ]
        },
        {
          "output_type": "error",
          "ename": "Exception",
          "evalue": "ignored",
          "traceback": [
            "\u001b[0;31m---------------------------------------------------------------------------\u001b[0m",
            "\u001b[0;31mException\u001b[0m                                 Traceback (most recent call last)",
            "\u001b[0;32m<ipython-input-57-bae412f1f1e4>\u001b[0m in \u001b[0;36m<module>\u001b[0;34m()\u001b[0m\n\u001b[1;32m      7\u001b[0m \u001b[0;32melse\u001b[0m\u001b[0;34m:\u001b[0m\u001b[0;34m\u001b[0m\u001b[0;34m\u001b[0m\u001b[0m\n\u001b[1;32m      8\u001b[0m     \u001b[0mprint\u001b[0m\u001b[0;34m(\u001b[0m\u001b[0;34m\"Accuracy is below the threshold!\"\u001b[0m\u001b[0;34m)\u001b[0m\u001b[0;34m\u001b[0m\u001b[0;34m\u001b[0m\u001b[0m\n\u001b[0;32m----> 9\u001b[0;31m     \u001b[0;32mraise\u001b[0m \u001b[0mException\u001b[0m\u001b[0;34m(\u001b[0m\u001b[0;34m\"Your model isn't accurate enough to pass the progress checker!\"\u001b[0m\u001b[0;34m)\u001b[0m\u001b[0;34m\u001b[0m\u001b[0;34m\u001b[0m\u001b[0m\n\u001b[0m\u001b[1;32m     10\u001b[0m \u001b[0;31m# Save the model into a local folder\u001b[0m\u001b[0;34m\u001b[0m\u001b[0;34m\u001b[0m\u001b[0;34m\u001b[0m\u001b[0m\n\u001b[1;32m     11\u001b[0m \u001b[0mkeras\u001b[0m\u001b[0;34m.\u001b[0m\u001b[0mmodels\u001b[0m\u001b[0;34m.\u001b[0m\u001b[0msave_model\u001b[0m\u001b[0;34m(\u001b[0m\u001b[0mmodel\u001b[0m\u001b[0;34m,\u001b[0m \u001b[0;34m\"Model.h5\"\u001b[0m\u001b[0;34m,\u001b[0m\u001b[0msave_format\u001b[0m\u001b[0;34m=\u001b[0m\u001b[0;34m'h5'\u001b[0m\u001b[0;34m)\u001b[0m\u001b[0;34m\u001b[0m\u001b[0;34m\u001b[0m\u001b[0m\n",
            "\u001b[0;31mException\u001b[0m: Your model isn't accurate enough to pass the progress checker!"
          ]
        }
      ]
    },
    {
      "cell_type": "code",
      "source": [
        ""
      ],
      "metadata": {
        "id": "hv7PyBQQsXav"
      },
      "execution_count": null,
      "outputs": []
    }
  ],
  "metadata": {
    "kernelspec": {
      "display_name": "Python 3",
      "language": "python",
      "name": "python3"
    },
    "language_info": {
      "codemirror_mode": {
        "name": "ipython",
        "version": 3
      },
      "file_extension": ".py",
      "mimetype": "text/x-python",
      "name": "python",
      "nbconvert_exporter": "python",
      "pygments_lexer": "ipython3",
      "version": "3.7.10"
    },
    "colab": {
      "name": "rnn.ipynb",
      "provenance": [],
      "collapsed_sections": [
        "WlhjIvZR_a0Q",
        "rloJamyvWPWj",
        "7c-duA1Z_a0R",
        "3ozUAZX__a0R"
      ],
      "include_colab_link": true
    }
  },
  "nbformat": 4,
  "nbformat_minor": 0
}